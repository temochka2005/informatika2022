{
  "metadata": {
    "kernelspec": {
      "name": "python",
      "display_name": "Python (Pyodide)",
      "language": "python"
    },
    "language_info": {
      "codemirror_mode": {
        "name": "python",
        "version": 3
      },
      "file_extension": ".py",
      "mimetype": "text/x-python",
      "name": "python",
      "nbconvert_exporter": "python",
      "pygments_lexer": "ipython3",
      "version": "3.8"
    }
  },
  "nbformat_minor": 5,
  "nbformat": 4,
  "cells": [
    {
      "cell_type": "markdown",
      "source": "## Двумерные списки",
      "metadata": {},
      "id": "5e2169fa"
    },
    {
      "cell_type": "markdown",
      "source": "\"Двумерный список\" — это обычный список, элементами которого являются списки. Такой термин удобен для нас, но для Python нет разницы между одномерными и двумерными списками. В частности, нечто такое вообще будет являться промежуточным: `[1, [2, 3, 4], 5]`\n\nСоздадим список и рассмотрим обращение к элементам.",
      "metadata": {},
      "id": "24411da1"
    },
    {
      "cell_type": "code",
      "source": "a = [[1, 2, 3], [4, 5, 6]]\nprint(*a)\nprint(a[1])\nprint(a[1][0])\nprint(a[-1][-1])",
      "metadata": {
        "trusted": true
      },
      "execution_count": 1,
      "outputs": [
        {
          "name": "stdout",
          "text": "[1, 2, 3] [4, 5, 6]\n[4, 5, 6]\n4\n6\n",
          "output_type": "stream"
        }
      ],
      "id": "bdba992b"
    },
    {
      "cell_type": "code",
      "source": "for i in range(len(a)):\n    print(*a[i])",
      "metadata": {
        "trusted": true
      },
      "execution_count": 2,
      "outputs": [
        {
          "name": "stdout",
          "text": "1 2 3\n4 5 6\n",
          "output_type": "stream"
        }
      ],
      "id": "29994282"
    },
    {
      "cell_type": "markdown",
      "source": "Для создания списка можем использовать генераторы:",
      "metadata": {},
      "id": "b88a9954"
    },
    {
      "cell_type": "code",
      "source": "a = [[1, 2, 3] for i in range(4)]\nfor i in range(len(a)):\n    print(*a[i])",
      "metadata": {
        "trusted": true
      },
      "execution_count": 3,
      "outputs": [
        {
          "name": "stdout",
          "text": "1 2 3\n1 2 3\n1 2 3\n1 2 3\n",
          "output_type": "stream"
        }
      ],
      "id": "4a2fb96f"
    },
    {
      "cell_type": "code",
      "source": "a = [[i, i+1, i+2] for i in range(4)]\nfor i in range(len(a)):\n    print(*a[i])",
      "metadata": {
        "trusted": true
      },
      "execution_count": 4,
      "outputs": [
        {
          "name": "stdout",
          "text": "0 1 2\n1 2 3\n2 3 4\n3 4 5\n",
          "output_type": "stream"
        }
      ],
      "id": "4f287c52"
    },
    {
      "cell_type": "code",
      "source": "for x in a:\n    print(*x)",
      "metadata": {
        "trusted": true
      },
      "execution_count": 5,
      "outputs": [
        {
          "name": "stdout",
          "text": "0 1 2\n1 2 3\n2 3 4\n3 4 5\n",
          "output_type": "stream"
        }
      ],
      "id": "f739ed7d"
    },
    {
      "cell_type": "code",
      "source": "print(a)",
      "metadata": {
        "trusted": true
      },
      "execution_count": 6,
      "outputs": [
        {
          "name": "stdout",
          "text": "[[0, 1, 2], [1, 2, 3], [2, 3, 4], [3, 4, 5]]\n",
          "output_type": "stream"
        }
      ],
      "id": "9a48cf74"
    },
    {
      "cell_type": "markdown",
      "source": "Вот пример создания списка списков при помощи генератора списка, *вложенного* в генератор списка:",
      "metadata": {},
      "id": "11dad1dc"
    },
    {
      "cell_type": "code",
      "source": "a = [[j for j in range(5)] for i in range(5)]\nfor x in a:\n    print(*x)",
      "metadata": {
        "trusted": true
      },
      "execution_count": 7,
      "outputs": [
        {
          "name": "stdout",
          "text": "0 1 2 3 4\n0 1 2 3 4\n0 1 2 3 4\n0 1 2 3 4\n0 1 2 3 4\n",
          "output_type": "stream"
        }
      ],
      "id": "dead9401"
    },
    {
      "cell_type": "markdown",
      "source": "**Упражнение:** создайте двумерный список. Заполните его следующим образом: значение элемента - номер его строки.",
      "metadata": {},
      "id": "02e09442"
    },
    {
      "cell_type": "code",
      "source": "a=[[i] for i in range(5)]\nprint(*a)",
      "metadata": {
        "trusted": true
      },
      "execution_count": 12,
      "outputs": [
        {
          "name": "stdout",
          "text": "[0] [1] [2] [3] [4]\n",
          "output_type": "stream"
        }
      ],
      "id": "18ede4a8"
    },
    {
      "cell_type": "markdown",
      "source": "**Пример.** Напечатаем таблицу умножения $10*10$:",
      "metadata": {},
      "id": "16ce173d"
    },
    {
      "cell_type": "code",
      "source": "n, m = 10, 10\na = [[i * j for j in range(1, m + 1)] for i in range(1, n + 1)]\nfor x in a:\n    print(*x)",
      "metadata": {
        "trusted": true
      },
      "execution_count": 13,
      "outputs": [
        {
          "name": "stdout",
          "text": "1 2 3 4 5 6 7 8 9 10\n2 4 6 8 10 12 14 16 18 20\n3 6 9 12 15 18 21 24 27 30\n4 8 12 16 20 24 28 32 36 40\n5 10 15 20 25 30 35 40 45 50\n6 12 18 24 30 36 42 48 54 60\n7 14 21 28 35 42 49 56 63 70\n8 16 24 32 40 48 56 64 72 80\n9 18 27 36 45 54 63 72 81 90\n10 20 30 40 50 60 70 80 90 100\n",
          "output_type": "stream"
        }
      ],
      "id": "9b197df4"
    },
    {
      "cell_type": "markdown",
      "source": "## Тип bool. Оператор in. Еще раз про if.",
      "metadata": {},
      "id": "7b1d9a77"
    },
    {
      "cell_type": "markdown",
      "source": "Еще один базовый тип данных — это `bool`. Переменные такого типа могут принимать только 2 значения: `True` и `False`.",
      "metadata": {},
      "id": "e683d3d8"
    },
    {
      "cell_type": "code",
      "source": "print(1 > 0)",
      "metadata": {
        "trusted": true
      },
      "execution_count": 15,
      "outputs": [
        {
          "name": "stdout",
          "text": "True\n",
          "output_type": "stream"
        }
      ],
      "id": "655cb743"
    },
    {
      "cell_type": "code",
      "source": "a = 1 > 0\nprint(a)",
      "metadata": {
        "trusted": true
      },
      "execution_count": 14,
      "outputs": [
        {
          "name": "stdout",
          "text": "True\n",
          "output_type": "stream"
        }
      ],
      "id": "949f364b"
    },
    {
      "cell_type": "code",
      "source": "b = 1 < 0\nprint(b)",
      "metadata": {
        "trusted": true
      },
      "execution_count": 16,
      "outputs": [
        {
          "name": "stdout",
          "text": "False\n",
          "output_type": "stream"
        }
      ],
      "id": "a9d556fc"
    },
    {
      "cell_type": "code",
      "source": "print(a * 5)\nprint(b * 3)",
      "metadata": {
        "trusted": true
      },
      "execution_count": 17,
      "outputs": [
        {
          "name": "stdout",
          "text": "5\n0\n",
          "output_type": "stream"
        }
      ],
      "id": "62ffde28"
    },
    {
      "cell_type": "markdown",
      "source": "Именно тип `bool` используется в каскадной конструкции `if elif ... else`:",
      "metadata": {},
      "id": "d33283e9"
    },
    {
      "cell_type": "code",
      "source": "if 1 > 0:\n    print(2)",
      "metadata": {
        "trusted": true
      },
      "execution_count": 18,
      "outputs": [
        {
          "name": "stdout",
          "text": "2\n",
          "output_type": "stream"
        }
      ],
      "id": "44b85637"
    },
    {
      "cell_type": "markdown",
      "source": "Существует приведение типов. Любое число, отличное от нуля с логической точки зрения — `True`, нуль воспринимается как `False`",
      "metadata": {},
      "id": "ec682419"
    },
    {
      "cell_type": "code",
      "source": "if 5:\n    print(2)\nelse:\n    print(\"!\")",
      "metadata": {
        "trusted": true
      },
      "execution_count": 19,
      "outputs": [
        {
          "name": "stdout",
          "text": "2\n",
          "output_type": "stream"
        }
      ],
      "id": "e34f6f82"
    },
    {
      "cell_type": "code",
      "source": "if 0:\n    print(4)\nelse:\n    print(\"!\")",
      "metadata": {
        "trusted": true
      },
      "execution_count": 20,
      "outputs": [
        {
          "name": "stdout",
          "text": "!\n",
          "output_type": "stream"
        }
      ],
      "id": "5ca698d5"
    },
    {
      "cell_type": "code",
      "source": "for i in [1, 2, 3, 4, 5]:\n    print(i)",
      "metadata": {
        "trusted": true
      },
      "execution_count": 21,
      "outputs": [
        {
          "name": "stdout",
          "text": "1\n2\n3\n4\n5\n",
          "output_type": "stream"
        }
      ],
      "id": "c655994b"
    },
    {
      "cell_type": "markdown",
      "source": "### Оператор `in`\nЛексема `in` может быть использована не только как часть синтаксической конструкции цикла `for`, но и как *оператор* для проверки принадлежности элемента итерируемому объекту:",
      "metadata": {},
      "id": "b92e2643"
    },
    {
      "cell_type": "code",
      "source": "print(4 in [1, 2, 3, 4, 5])\nprint(6 in [1, 2, 3, 4, 5])",
      "metadata": {
        "trusted": true
      },
      "execution_count": 22,
      "outputs": [
        {
          "name": "stdout",
          "text": "True\nFalse\n",
          "output_type": "stream"
        }
      ],
      "id": "27cce21b"
    },
    {
      "cell_type": "code",
      "source": "print(4 in range(1, 6))\nprint(6 in range(1, 6))",
      "metadata": {
        "trusted": true
      },
      "execution_count": 23,
      "outputs": [
        {
          "name": "stdout",
          "text": "True\nFalse\n",
          "output_type": "stream"
        }
      ],
      "id": "6c1545be"
    },
    {
      "cell_type": "code",
      "source": "print(\"b\" in \"abc\")\nprint(\"B\" in \"abc\")",
      "metadata": {
        "trusted": true
      },
      "execution_count": 24,
      "outputs": [
        {
          "name": "stdout",
          "text": "True\nFalse\n",
          "output_type": "stream"
        }
      ],
      "id": "256067bf"
    },
    {
      "cell_type": "markdown",
      "source": "## Функции, возвращающие значение\nФункции — это вспомогательные алгоритмы. ",
      "metadata": {},
      "id": "5fb27cad"
    },
    {
      "cell_type": "markdown",
      "source": "###  Логическое значение как результат работы функции\nНиже описаны три аналогичных функции. Прочитайте их тела и объясните почему они работают одинаково.\nКакая из них вам больше нравится?",
      "metadata": {},
      "id": "57f88b90"
    },
    {
      "cell_type": "code",
      "source": "def is_positive(x):\n    if x > 0:\n        return True\n    else:\n        return False\n    \nprint(is_positive(5))\nprint(is_positive(-5))",
      "metadata": {
        "trusted": true
      },
      "execution_count": 25,
      "outputs": [
        {
          "name": "stdout",
          "text": "True\nFalse\n",
          "output_type": "stream"
        }
      ],
      "id": "ef4f059c"
    },
    {
      "cell_type": "code",
      "source": "def is_positive(x):\n    if x > 0:\n        return True\n    return False\n\nprint(is_positive(5))\nprint(is_positive(-5))",
      "metadata": {
        "trusted": true
      },
      "execution_count": 26,
      "outputs": [
        {
          "name": "stdout",
          "text": "True\nFalse\n",
          "output_type": "stream"
        }
      ],
      "id": "dcdef58f"
    },
    {
      "cell_type": "code",
      "source": "def is_positive(x):\n    return x > 0\n\nprint(is_positive(5))\nprint(is_positive(-5))",
      "metadata": {
        "trusted": true
      },
      "execution_count": 27,
      "outputs": [
        {
          "name": "stdout",
          "text": "True\nFalse\n",
          "output_type": "stream"
        }
      ],
      "id": "b0431287"
    },
    {
      "cell_type": "markdown",
      "source": "## Функции как аргументы функций map и filter\nДля поэлементной обработки любого итерируемого объекта можно использовать функции `map` и `filter`:",
      "metadata": {},
      "id": "2c47bf96"
    },
    {
      "cell_type": "code",
      "source": "a = \"1 2 -3 4 -5\".split()\nprint(a)\na = list(map(int, a))\nprint(a)",
      "metadata": {
        "trusted": true
      },
      "execution_count": 28,
      "outputs": [
        {
          "name": "stdout",
          "text": "['1', '2', '-3', '4', '-5']\n[1, 2, -3, 4, -5]\n",
          "output_type": "stream"
        }
      ],
      "id": "f8670a5b"
    },
    {
      "cell_type": "code",
      "source": "a = \"1 2 -3 4 -5\".split()\nprint(a)\na = list(map(float, a))\nprint(a)",
      "metadata": {
        "trusted": true
      },
      "execution_count": 29,
      "outputs": [
        {
          "name": "stdout",
          "text": "['1', '2', '-3', '4', '-5']\n[1.0, 2.0, -3.0, 4.0, -5.0]\n",
          "output_type": "stream"
        }
      ],
      "id": "84d9f84c"
    },
    {
      "cell_type": "code",
      "source": "a = \"1 2 -3 4 -5 0\".split()\nprint(a)\na = list(map(bool, a))\nprint(a)",
      "metadata": {
        "trusted": true
      },
      "execution_count": 30,
      "outputs": [
        {
          "name": "stdout",
          "text": "['1', '2', '-3', '4', '-5', '0']\n[True, True, True, True, True, True]\n",
          "output_type": "stream"
        }
      ],
      "id": "1bcae2a6"
    },
    {
      "cell_type": "code",
      "source": "a = \"1 2 -3 4 -5 0\".split()\nprint(a)\na = list(map(int, a))\nprint(a)\na = list(map(bool, a))\nprint(a)",
      "metadata": {
        "trusted": true
      },
      "execution_count": 31,
      "outputs": [
        {
          "name": "stdout",
          "text": "['1', '2', '-3', '4', '-5', '0']\n[1, 2, -3, 4, -5, 0]\n[True, True, True, True, True, False]\n",
          "output_type": "stream"
        }
      ],
      "id": "13a826c6"
    },
    {
      "cell_type": "markdown",
      "source": "Как параметр для `map` можно передавать не только стандартные функции, но и свои собственные:",
      "metadata": {},
      "id": "8c28c10b"
    },
    {
      "cell_type": "code",
      "source": "def my_function(x):\n    return x * 2\n\na = \"1 2 -3 4 -5\".split()\nprint(a)\na = list(map(my_function, a))\nprint(a)",
      "metadata": {
        "trusted": true
      },
      "execution_count": 32,
      "outputs": [
        {
          "name": "stdout",
          "text": "['1', '2', '-3', '4', '-5']\n['11', '22', '-3-3', '44', '-5-5']\n",
          "output_type": "stream"
        }
      ],
      "id": "80527cdc"
    },
    {
      "cell_type": "markdown",
      "source": "Такие \"одноразовые функции\" загрязняют пространство имён, поэтому есть возможность создать **безымянную функцию** при помощи слова `lambda`. Вычисляясь, лямбда-выражение \"изготавливает\" новую функцию и передаёт её как объект туда, где она нужна — в функцию `map`. Затем она сразу забывается.",
      "metadata": {},
      "id": "7d192c9d"
    },
    {
      "cell_type": "code",
      "source": "a = \"1 2 -3 4 -5\".split()\nprint(a)\na = list(map(lambda x: x * 2, a))\nprint(a)",
      "metadata": {
        "trusted": true
      },
      "execution_count": 33,
      "outputs": [
        {
          "name": "stdout",
          "text": "['1', '2', '-3', '4', '-5']\n['11', '22', '-3-3', '44', '-5-5']\n",
          "output_type": "stream"
        }
      ],
      "id": "ce922e96"
    },
    {
      "cell_type": "code",
      "source": "a = [1, 2, -3, 4, -5]\nb = list(map(is_positive, a))\nc = list(filter(is_positive, a))\nprint(b)\nprint(c)",
      "metadata": {
        "trusted": true
      },
      "execution_count": 34,
      "outputs": [
        {
          "name": "stdout",
          "text": "[True, True, False, True, False]\n[1, 2, 4]\n",
          "output_type": "stream"
        }
      ],
      "id": "959c6572"
    },
    {
      "cell_type": "code",
      "source": "a = [1, 2, -3, 4, -5]\nb = list(map(lambda x: x > 0, a))\nc = list(filter(lambda x: x > 0, a))\nprint(b)\nprint(c)",
      "metadata": {
        "trusted": true
      },
      "execution_count": 35,
      "outputs": [
        {
          "name": "stdout",
          "text": "[True, True, False, True, False]\n[1, 2, 4]\n",
          "output_type": "stream"
        }
      ],
      "id": "fd2a87e6"
    },
    {
      "cell_type": "markdown",
      "source": "Можем делать \"сложную\" лямбда-функцию:",
      "metadata": {},
      "id": "7313cf30"
    },
    {
      "cell_type": "code",
      "source": "a = \"1 2 -3 4 -5\".split()\nprint(a)\na = list(map(lambda x: abs(int(x)), a))\nprint(a)",
      "metadata": {
        "trusted": true
      },
      "execution_count": 36,
      "outputs": [
        {
          "name": "stdout",
          "text": "['1', '2', '-3', '4', '-5']\n[1, 2, 3, 4, 5]\n",
          "output_type": "stream"
        }
      ],
      "id": "bf6a53b0"
    },
    {
      "cell_type": "markdown",
      "source": "**Упражнение:** считайте список с клавиатуры. С помощью функции `filter` удалите из него те элементы, которые *не* являются квадратами однозначных натуральных чисел.",
      "metadata": {},
      "id": "cced2f0d"
    },
    {
      "cell_type": "code",
      "source": "c=map(int, input().split())\na=list(filter(lambda x: any(x == n*n for n in range(10)), c))\nprint(a)",
      "metadata": {
        "trusted": true
      },
      "execution_count": 58,
      "outputs": [
        {
          "ename": "<class 'AttributeError'>",
          "evalue": "'Future' object has no attribute 'split'",
          "traceback": [
            "\u001b[0;31m---------------------------------------------------------------------------\u001b[0m",
            "\u001b[0;31mAttributeError\u001b[0m                            Traceback (most recent call last)",
            "Cell \u001b[0;32mIn [58], line 1\u001b[0m\n\u001b[0;32m----> 1\u001b[0m c\u001b[38;5;241m=\u001b[39m\u001b[38;5;28mmap\u001b[39m(\u001b[38;5;28mint\u001b[39m, \u001b[38;5;28;43minput\u001b[39;49m\u001b[43m(\u001b[49m\u001b[43m)\u001b[49m\u001b[38;5;241;43m.\u001b[39;49m\u001b[43msplit\u001b[49m())\n\u001b[1;32m      2\u001b[0m a\u001b[38;5;241m=\u001b[39m\u001b[38;5;28mlist\u001b[39m(\u001b[38;5;28mfilter\u001b[39m(\u001b[38;5;28;01mlambda\u001b[39;00m x: \u001b[38;5;28many\u001b[39m(x \u001b[38;5;241m==\u001b[39m n\u001b[38;5;241m*\u001b[39mn \u001b[38;5;28;01mfor\u001b[39;00m n \u001b[38;5;129;01min\u001b[39;00m \u001b[38;5;28mrange\u001b[39m(\u001b[38;5;241m10\u001b[39m)), c))\n\u001b[1;32m      3\u001b[0m \u001b[38;5;28mprint\u001b[39m(a)\n",
            "\u001b[0;31mAttributeError\u001b[0m: 'Future' object has no attribute 'split'"
          ],
          "output_type": "error"
        }
      ],
      "id": "470b80f3"
    },
    {
      "cell_type": "markdown",
      "source": "Можно использовать `map` для обработки считанного списка. Считываем с помощью функции `input()` объект типа `str`, к нему применяем метод `split()` и получаем `list`, ко всем его элементам функция `map` применяет функцию `int`, а конструктор списка `list` сохраняет результат в список:",
      "metadata": {},
      "id": "07f6cc31"
    },
    {
      "cell_type": "code",
      "source": "a = list(map(int, input().split()))\nprint(a)",
      "metadata": {
        "trusted": true
      },
      "execution_count": 59,
      "outputs": [
        {
          "ename": "<class 'AttributeError'>",
          "evalue": "'Future' object has no attribute 'split'",
          "traceback": [
            "\u001b[0;31m---------------------------------------------------------------------------\u001b[0m",
            "\u001b[0;31mAttributeError\u001b[0m                            Traceback (most recent call last)",
            "Cell \u001b[0;32mIn [59], line 1\u001b[0m\n\u001b[0;32m----> 1\u001b[0m a \u001b[38;5;241m=\u001b[39m \u001b[38;5;28mlist\u001b[39m(\u001b[38;5;28mmap\u001b[39m(\u001b[38;5;28mint\u001b[39m, \u001b[38;5;28;43minput\u001b[39;49m\u001b[43m(\u001b[49m\u001b[43m)\u001b[49m\u001b[38;5;241;43m.\u001b[39;49m\u001b[43msplit\u001b[49m()))\n\u001b[1;32m      2\u001b[0m \u001b[38;5;28mprint\u001b[39m(a)\n",
            "\u001b[0;31mAttributeError\u001b[0m: 'Future' object has no attribute 'split'"
          ],
          "output_type": "error"
        }
      ],
      "id": "5880334d"
    },
    {
      "cell_type": "code",
      "source": "a = [list(map(int, input().split())) for i in range(5)]",
      "metadata": {
        "scrolled": true
      },
      "execution_count": null,
      "outputs": [],
      "id": "513e32ed"
    },
    {
      "cell_type": "code",
      "source": "for x in a:\n    print(*x)",
      "metadata": {
        "trusted": true
      },
      "execution_count": 61,
      "outputs": [],
      "id": "2a2fa26e"
    },
    {
      "cell_type": "markdown",
      "source": "Пример: удалить из матрицы строки с отрицательной суммой",
      "metadata": {},
      "id": "8be0994e"
    },
    {
      "cell_type": "code",
      "source": "a = [[5, -2, 3], [-1, 2, -3], [-8, 4, 5]]\nfor x in a:\n    print(*x)",
      "metadata": {
        "trusted": true
      },
      "execution_count": 62,
      "outputs": [
        {
          "name": "stdout",
          "text": "5 -2 3\n-1 2 -3\n-8 4 5\n",
          "output_type": "stream"
        }
      ],
      "id": "4b7291f3"
    },
    {
      "cell_type": "code",
      "source": "a = list(filter(lambda x: sum(x) >= 0, a))\nprint(a)",
      "metadata": {
        "trusted": true
      },
      "execution_count": 63,
      "outputs": [
        {
          "name": "stdout",
          "text": "[[5, -2, 3], [-8, 4, 5]]\n",
          "output_type": "stream"
        }
      ],
      "id": "107988bd"
    },
    {
      "cell_type": "code",
      "source": "print(sum(a[0]), sum(a[1]))",
      "metadata": {
        "trusted": true
      },
      "execution_count": 64,
      "outputs": [
        {
          "name": "stdout",
          "text": "6 1\n",
          "output_type": "stream"
        }
      ],
      "id": "af8eb227"
    },
    {
      "cell_type": "markdown",
      "source": "И еще примеры:",
      "metadata": {},
      "id": "9687cb48"
    },
    {
      "cell_type": "code",
      "source": "a = [1, 2, 3, 4, 5]\nprint(list(map(lambda x: x ** 2, a)))",
      "metadata": {
        "trusted": true
      },
      "execution_count": 66,
      "outputs": [
        {
          "name": "stdout",
          "text": "[1, 4, 9, 16, 25]\n",
          "output_type": "stream"
        }
      ],
      "id": "a25dae6f"
    },
    {
      "cell_type": "code",
      "source": "a = [1, 2, -3, 4, -5]\nprint(list(map(lambda x: x if x >= 0 else 0, a)))",
      "metadata": {
        "trusted": true
      },
      "execution_count": 67,
      "outputs": [
        {
          "name": "stdout",
          "text": "[1, 2, 0, 4, 0]\n",
          "output_type": "stream"
        }
      ],
      "id": "7615424a"
    },
    {
      "cell_type": "markdown",
      "source": "## Цикл while. Целочисленная арифметика",
      "metadata": {},
      "id": "3f3d2d44"
    },
    {
      "cell_type": "markdown",
      "source": "Кроме цикла `for` в Python используется цикл `while`. Например, он удобен, если нужно указать условие выхода через условие типа `bool`",
      "metadata": {},
      "id": "7feb1357"
    },
    {
      "cell_type": "code",
      "source": "i = 0\nwhile i < 5:\n    print(i ** 2)\n    i += 1",
      "metadata": {
        "trusted": true
      },
      "execution_count": 68,
      "outputs": [
        {
          "name": "stdout",
          "text": "0\n1\n4\n9\n16\n",
          "output_type": "stream"
        }
      ],
      "id": "123b28fb"
    },
    {
      "cell_type": "code",
      "source": "for i in range(5):\n    print(i ** 2)",
      "metadata": {
        "trusted": true
      },
      "execution_count": 69,
      "outputs": [
        {
          "name": "stdout",
          "text": "0\n1\n4\n9\n16\n",
          "output_type": "stream"
        }
      ],
      "id": "5ee7473f"
    },
    {
      "cell_type": "markdown",
      "source": "Еще две арифметические операции, которые потребуются в примере ниже: деление с остатком и целочисленное деление.",
      "metadata": {},
      "id": "3aa86ea4"
    },
    {
      "cell_type": "code",
      "source": "print(16 % 3)\nprint(16 // 3)",
      "metadata": {
        "trusted": true
      },
      "execution_count": 70,
      "outputs": [
        {
          "name": "stdout",
          "text": "1\n5\n",
          "output_type": "stream"
        }
      ],
      "id": "69f54375"
    },
    {
      "cell_type": "markdown",
      "source": "С помощью цикла `while` удобно обращаться к отдельным цифрам числа. Например, можно сохранить их в массив:",
      "metadata": {},
      "id": "85197c8d"
    },
    {
      "cell_type": "code",
      "source": "a = []\nn = 2345\nwhile n > 0:\n    a.append(n % 10)\n    n = n // 10\nprint(a)",
      "metadata": {
        "trusted": true
      },
      "execution_count": 71,
      "outputs": [
        {
          "name": "stdout",
          "text": "[5, 4, 3, 2]\n",
          "output_type": "stream"
        }
      ],
      "id": "6488a45d"
    },
    {
      "cell_type": "markdown",
      "source": "**Упражнение:** напишите функцию, которая вычисляет сумму цифр числа, считайте число с клавиатуры и примените эту функцию.",
      "metadata": {},
      "id": "73cfba6a"
    },
    {
      "cell_type": "code",
      "source": "a=int(input())\ns=[]\nwhile a > 0:\n    s.append(a % 10)\n    a = a // 10\nprint(sum(s))",
      "metadata": {
        "trusted": true
      },
      "execution_count": 73,
      "outputs": [
        {
          "ename": "<class 'TypeError'>",
          "evalue": "'>' not supported between instances of 'Future' and 'int'",
          "traceback": [
            "\u001b[0;31m---------------------------------------------------------------------------\u001b[0m",
            "\u001b[0;31mTypeError\u001b[0m                                 Traceback (most recent call last)",
            "Cell \u001b[0;32mIn [73], line 3\u001b[0m\n\u001b[1;32m      1\u001b[0m a\u001b[38;5;241m=\u001b[39m\u001b[38;5;28minput\u001b[39m()\n\u001b[1;32m      2\u001b[0m s\u001b[38;5;241m=\u001b[39m[]\n\u001b[0;32m----> 3\u001b[0m \u001b[38;5;28;01mwhile\u001b[39;00m \u001b[43ma\u001b[49m\u001b[43m \u001b[49m\u001b[38;5;241;43m>\u001b[39;49m\u001b[43m \u001b[49m\u001b[38;5;241;43m0\u001b[39;49m: \n\u001b[1;32m      4\u001b[0m     s\u001b[38;5;241m.\u001b[39mappend(n \u001b[38;5;241m%\u001b[39m \u001b[38;5;241m10\u001b[39m)\n\u001b[1;32m      5\u001b[0m     a \u001b[38;5;241m=\u001b[39m a \u001b[38;5;241m/\u001b[39m\u001b[38;5;241m/\u001b[39m \u001b[38;5;241m10\u001b[39m\n",
            "\u001b[0;31mTypeError\u001b[0m: '>' not supported between instances of 'Future' and 'int'"
          ],
          "output_type": "error"
        }
      ],
      "id": "91628376"
    },
    {
      "cell_type": "markdown",
      "source": "Можно запустить \"бесконечный цикл\" (он ничем не отличается от обычного). Внутри циклов можно использовать конструкции `break` и `continue`:",
      "metadata": {},
      "id": "7c9dc0fd"
    },
    {
      "cell_type": "code",
      "source": "while True:\n    a = int(input())\n    print(a)",
      "metadata": {
        "trusted": true
      },
      "execution_count": 74,
      "outputs": [
        {
          "ename": "<class 'TypeError'>",
          "evalue": "int() argument must be a string, a bytes-like object or a real number, not 'Future'",
          "traceback": [
            "\u001b[0;31m---------------------------------------------------------------------------\u001b[0m",
            "\u001b[0;31mTypeError\u001b[0m                                 Traceback (most recent call last)",
            "Cell \u001b[0;32mIn [74], line 2\u001b[0m\n\u001b[1;32m      1\u001b[0m \u001b[38;5;28;01mwhile\u001b[39;00m \u001b[38;5;28;01mTrue\u001b[39;00m:\n\u001b[0;32m----> 2\u001b[0m     a \u001b[38;5;241m=\u001b[39m \u001b[38;5;28;43mint\u001b[39;49m\u001b[43m(\u001b[49m\u001b[38;5;28;43minput\u001b[39;49m\u001b[43m(\u001b[49m\u001b[43m)\u001b[49m\u001b[43m)\u001b[49m\n\u001b[1;32m      3\u001b[0m     \u001b[38;5;28mprint\u001b[39m(a)\n",
            "\u001b[0;31mTypeError\u001b[0m: int() argument must be a string, a bytes-like object or a real number, not 'Future'"
          ],
          "output_type": "error"
        }
      ],
      "id": "8794783c"
    },
    {
      "cell_type": "markdown",
      "source": "Для прерывания работы ячейки можно нажать на квадратик.",
      "metadata": {},
      "id": "254a4a65"
    },
    {
      "cell_type": "code",
      "source": "while True:\n    a = int(input())\n    if a > 0:\n        print(a)\n    else:\n        break",
      "metadata": {},
      "execution_count": null,
      "outputs": [],
      "id": "46735686"
    },
    {
      "cell_type": "code",
      "source": "while True:\n    a = int(input())\n    if a > 0:\n        continue\n    else:\n        break",
      "metadata": {},
      "execution_count": null,
      "outputs": [],
      "id": "e41787fb"
    },
    {
      "cell_type": "markdown",
      "source": "## Работа с файлами",
      "metadata": {},
      "id": "5da20e2f"
    },
    {
      "cell_type": "markdown",
      "source": "Пример: создайте файл input.txt, скопируйте туда таблицу с числами ниже:\n\n    1 2 3\n    4 5 6",
      "metadata": {},
      "id": "84e27eb5"
    },
    {
      "cell_type": "code",
      "source": "with open(\"input.txt\", \"r\") as f:\n    print(f.read())",
      "metadata": {
        "trusted": true
      },
      "execution_count": 77,
      "outputs": [
        {
          "name": "stdout",
          "text": "    1 2 3\n    4 5 6\n",
          "output_type": "stream"
        }
      ],
      "id": "1ade4721"
    },
    {
      "cell_type": "code",
      "source": "with open(\"input.txt\", \"r\") as f:\n    s = f.read()\n    print(s)\n    ",
      "metadata": {
        "trusted": true
      },
      "execution_count": 78,
      "outputs": [
        {
          "name": "stdout",
          "text": "    1 2 3\n    4 5 6\n",
          "output_type": "stream"
        }
      ],
      "id": "17a0572d"
    },
    {
      "cell_type": "code",
      "source": "s, type(s)",
      "metadata": {
        "trusted": true
      },
      "execution_count": 79,
      "outputs": [
        {
          "execution_count": 79,
          "output_type": "execute_result",
          "data": {
            "text/plain": "('    1 2 3\\n    4 5 6', str)"
          },
          "metadata": {}
        }
      ],
      "id": "7cb5784c"
    },
    {
      "cell_type": "markdown",
      "source": "Так выглядит внутреннее представление строки `s`. Когда мы вызываем функцию `print` символ переноса строки `\\n` переводит курсор на новую строку:",
      "metadata": {},
      "id": "7e855b29"
    },
    {
      "cell_type": "code",
      "source": "print(\"1\\n2\")",
      "metadata": {
        "trusted": true
      },
      "execution_count": 80,
      "outputs": [
        {
          "name": "stdout",
          "text": "1\n2\n",
          "output_type": "stream"
        }
      ],
      "id": "4a95cf02"
    },
    {
      "cell_type": "code",
      "source": "with open(\"input.txt\", \"r\") as f:\n    a = f.readlines()\nprint(a)",
      "metadata": {
        "trusted": true
      },
      "execution_count": 81,
      "outputs": [
        {
          "name": "stdout",
          "text": "['    1 2 3\\n', '    4 5 6']\n",
          "output_type": "stream"
        }
      ],
      "id": "248a5e4f"
    },
    {
      "cell_type": "markdown",
      "source": "Напомним, что `rstrip()` удаляет пробельные элементы из конца строки, в частности, символ переноса строки",
      "metadata": {},
      "id": "45273c92"
    },
    {
      "cell_type": "code",
      "source": "with open(\"input.txt\", \"r\") as f:\n    a = f.readlines()\n    a = list(map(lambda x: x.rstrip(), a))\nprint(a)",
      "metadata": {
        "trusted": true
      },
      "execution_count": 82,
      "outputs": [
        {
          "name": "stdout",
          "text": "['    1 2 3', '    4 5 6']\n",
          "output_type": "stream"
        }
      ],
      "id": "5fcc6108"
    },
    {
      "cell_type": "code",
      "source": "with open(\"input.txt\", \"r\") as f:\n    a = f.readlines()\n    a = list(map(lambda x: x.rstrip().split(), a))\nprint(a)",
      "metadata": {
        "trusted": true
      },
      "execution_count": 83,
      "outputs": [
        {
          "name": "stdout",
          "text": "[['1', '2', '3'], ['4', '5', '6']]\n",
          "output_type": "stream"
        }
      ],
      "id": "ee6bbeb0"
    },
    {
      "cell_type": "code",
      "source": "a=[]\nwith open(\"input.txt\", \"r\") as f:\n    a = f.readlines()\n    a = list(map(lambda x: [int(y) for y in x.rstrip().split()], a))\nprint(a)",
      "metadata": {
        "trusted": true
      },
      "execution_count": 84,
      "outputs": [
        {
          "name": "stdout",
          "text": "[[1, 2, 3], [4, 5, 6]]\n",
          "output_type": "stream"
        }
      ],
      "id": "c2625d49"
    },
    {
      "cell_type": "markdown",
      "source": "Или проще:",
      "metadata": {},
      "id": "1c2446d3"
    },
    {
      "cell_type": "code",
      "source": "with open(\"input.txt\", \"r\") as f:\n    a = f.readlines()\n    a = list(map(lambda x: x.rstrip().split(), a))\n    for i in range(len(a)):\n        for j in range(len(a[i])):\n            a[i][j] = int(a[i][j])\nprint(a)",
      "metadata": {
        "trusted": true
      },
      "execution_count": 85,
      "outputs": [
        {
          "name": "stdout",
          "text": "[[1, 2, 3], [4, 5, 6]]\n",
          "output_type": "stream"
        }
      ],
      "id": "dba4f550"
    },
    {
      "cell_type": "markdown",
      "source": "**Пример:** в созданный файл запишем вместо чисел, которые там были, новые числа, равные квадратам исходных",
      "metadata": {},
      "id": "50cd4323"
    },
    {
      "cell_type": "code",
      "source": "b = [[a[i][j] ** 2 for j in range(len(a[i]))] for i in range(len(a))]\nprint(b)",
      "metadata": {
        "trusted": true
      },
      "execution_count": 100,
      "outputs": [
        {
          "name": "stdout",
          "text": "[[1, 25], [9, 9], [25, 25], [9, 0]]\n",
          "output_type": "stream"
        }
      ],
      "id": "b38bd1b9"
    },
    {
      "cell_type": "code",
      "source": "with open(\"output.txt\", \"w\") as f:\n    f.writelines([\" \".join(x) for x in [str(y) for y in b]])",
      "metadata": {
        "trusted": true
      },
      "execution_count": 101,
      "outputs": [],
      "id": "6ca144a2"
    },
    {
      "cell_type": "code",
      "source": "b = [[str(x) for x in b[i]] for i in range(len(b))]\nwith open(\"output.txt\", \"w\") as f:\n    f.writelines([\" \".join(x) for x in b])",
      "metadata": {
        "trusted": true
      },
      "execution_count": 102,
      "outputs": [],
      "id": "82b7feff"
    },
    {
      "cell_type": "markdown",
      "source": "Посмотрите, что записалось в файл. Не совсем то, что нужно, не хватает символов переноса строки",
      "metadata": {},
      "id": "d7798cae"
    },
    {
      "cell_type": "code",
      "source": "b = [[str(x) for x in b[i]] for i in range(len(b))]\nwith open(\"output.txt\", \"w\") as f:\n    f.writelines([\" \".join(x) + \"\\n\" for x in b])",
      "metadata": {
        "trusted": true
      },
      "execution_count": 103,
      "outputs": [],
      "id": "a95188de"
    },
    {
      "cell_type": "markdown",
      "source": "Файлы можно открывать не только на запись, но и на дозапись. Обратите внимание, что в предыдущей ячейке предыдущее сожержимое файла стерлось запуском `open`, для этого используем флажок `a` вместо `w`",
      "metadata": {},
      "id": "648228d0"
    },
    {
      "cell_type": "code",
      "source": "b = [[str(x) for x in b[i]] for i in range(len(b))]\nwith open(\"output.txt\", \"a\") as f:\n    f.write(\"done!\")",
      "metadata": {
        "trusted": true
      },
      "execution_count": 104,
      "outputs": [],
      "id": "acadb95e"
    },
    {
      "cell_type": "markdown",
      "source": "## Сортировка списков",
      "metadata": {},
      "id": "f9b894ad"
    },
    {
      "cell_type": "markdown",
      "source": "Не углубляясь в алгоритмы, разберем, как можно сортировать списки в Python. Для этого есть функции `sort` и `sorted`. Первая изменяет сортируемый объект, вторая создает новый, а исходный остается:",
      "metadata": {},
      "id": "735cd12e"
    },
    {
      "cell_type": "code",
      "source": "a = [3, 1, 5, 4, 2]\na.sort()\nprint(a)",
      "metadata": {
        "trusted": true
      },
      "execution_count": 105,
      "outputs": [
        {
          "name": "stdout",
          "text": "[1, 2, 3, 4, 5]\n",
          "output_type": "stream"
        }
      ],
      "id": "93cd612d"
    },
    {
      "cell_type": "code",
      "source": "a = [3, 1, 5, 4, 2]\nprint(sorted(a))\nprint(a)",
      "metadata": {
        "trusted": true
      },
      "execution_count": 106,
      "outputs": [
        {
          "name": "stdout",
          "text": "[1, 2, 3, 4, 5]\n[3, 1, 5, 4, 2]\n",
          "output_type": "stream"
        }
      ],
      "id": "2886bb09"
    },
    {
      "cell_type": "markdown",
      "source": "Но можем использовать вторую вместо первой:",
      "metadata": {},
      "id": "35933e8e"
    },
    {
      "cell_type": "code",
      "source": "a = [3, 1, 5, 4, 2]\na = sorted(a)\nprint(a)",
      "metadata": {
        "trusted": true
      },
      "execution_count": 107,
      "outputs": [
        {
          "name": "stdout",
          "text": "[1, 2, 3, 4, 5]\n",
          "output_type": "stream"
        }
      ],
      "id": "953f6807"
    },
    {
      "cell_type": "markdown",
      "source": "Сортировка по ключу. key - это второй параметр функции `sorted` и он часто записывает в виде лямбда-функции, которая возвращает функции от объектов, которые мы используем в качестве меры этих объектов для сортировки",
      "metadata": {},
      "id": "a4b08cda"
    },
    {
      "cell_type": "code",
      "source": "a = [3, 1, 5, 4, 2]\na = sorted(a, key = lambda x: -x)\nprint(a)",
      "metadata": {
        "trusted": true
      },
      "execution_count": 108,
      "outputs": [
        {
          "name": "stdout",
          "text": "[5, 4, 3, 2, 1]\n",
          "output_type": "stream"
        }
      ],
      "id": "7acaea5d"
    },
    {
      "cell_type": "code",
      "source": "a = [[1, 5], [3, 3], [5, 5], [3, 0]]\nprint(sorted(a, key = lambda x: sum(x)))",
      "metadata": {
        "trusted": true
      },
      "execution_count": 109,
      "outputs": [
        {
          "name": "stdout",
          "text": "[[3, 0], [1, 5], [3, 3], [5, 5]]\n",
          "output_type": "stream"
        }
      ],
      "id": "999810ba"
    },
    {
      "cell_type": "code",
      "source": "a = [[1, 5], [3, 3], [5, 5], [3, 0]]\nprint(sorted(a, key = lambda x: x[0] ** 2 + x[1] ** 2))",
      "metadata": {
        "trusted": true
      },
      "execution_count": 110,
      "outputs": [
        {
          "name": "stdout",
          "text": "[[3, 0], [3, 3], [1, 5], [5, 5]]\n",
          "output_type": "stream"
        }
      ],
      "id": "5ea4f6f5"
    },
    {
      "cell_type": "markdown",
      "source": "Можем сортировать по нескольким параметрам в порядке убывания приоритета:",
      "metadata": {},
      "id": "36ab77a2"
    },
    {
      "cell_type": "code",
      "source": "a = [[1, 6], [2, 5], [3, 4]]\nprint(sorted(a, key = lambda x: (sum(x), x[1])))",
      "metadata": {
        "trusted": true
      },
      "execution_count": 111,
      "outputs": [
        {
          "name": "stdout",
          "text": "[[3, 4], [2, 5], [1, 6]]\n",
          "output_type": "stream"
        }
      ],
      "id": "53845f34"
    },
    {
      "cell_type": "markdown",
      "source": "`(sum(x), x[1])` - это кортеж. Кортежи похожи на списки, но они неизменяемы (нельзя присваивать по индексу и добавлять элементы)",
      "metadata": {},
      "id": "7d0ad4e6"
    },
    {
      "cell_type": "code",
      "source": "a = [1, 2]\na[1] = 3\nprint(a)",
      "metadata": {
        "trusted": true
      },
      "execution_count": 112,
      "outputs": [
        {
          "name": "stdout",
          "text": "[1, 3]\n",
          "output_type": "stream"
        }
      ],
      "id": "009d6082"
    },
    {
      "cell_type": "code",
      "source": "a = (1, 2)\na[1] = 3\nprint(a)",
      "metadata": {
        "trusted": true
      },
      "execution_count": 113,
      "outputs": [
        {
          "ename": "<class 'TypeError'>",
          "evalue": "'tuple' object does not support item assignment",
          "traceback": [
            "\u001b[0;31m---------------------------------------------------------------------------\u001b[0m",
            "\u001b[0;31mTypeError\u001b[0m                                 Traceback (most recent call last)",
            "Cell \u001b[0;32mIn [113], line 2\u001b[0m\n\u001b[1;32m      1\u001b[0m a \u001b[38;5;241m=\u001b[39m (\u001b[38;5;241m1\u001b[39m, \u001b[38;5;241m2\u001b[39m)\n\u001b[0;32m----> 2\u001b[0m \u001b[43ma\u001b[49m\u001b[43m[\u001b[49m\u001b[38;5;241;43m1\u001b[39;49m\u001b[43m]\u001b[49m \u001b[38;5;241m=\u001b[39m \u001b[38;5;241m3\u001b[39m\n\u001b[1;32m      3\u001b[0m \u001b[38;5;28mprint\u001b[39m(a)\n",
            "\u001b[0;31mTypeError\u001b[0m: 'tuple' object does not support item assignment"
          ],
          "output_type": "error"
        }
      ],
      "id": "435c3f6c"
    },
    {
      "cell_type": "code",
      "source": "a = [1, 2]\na.append(3)\nprint(a)",
      "metadata": {
        "trusted": true
      },
      "execution_count": 114,
      "outputs": [
        {
          "name": "stdout",
          "text": "[1, 2, 3]\n",
          "output_type": "stream"
        }
      ],
      "id": "96e37c3d"
    },
    {
      "cell_type": "code",
      "source": "a = (1, 2)\na.append(3)\nprint(a)",
      "metadata": {
        "trusted": true
      },
      "execution_count": 115,
      "outputs": [
        {
          "ename": "<class 'AttributeError'>",
          "evalue": "'tuple' object has no attribute 'append'",
          "traceback": [
            "\u001b[0;31m---------------------------------------------------------------------------\u001b[0m",
            "\u001b[0;31mAttributeError\u001b[0m                            Traceback (most recent call last)",
            "Cell \u001b[0;32mIn [115], line 2\u001b[0m\n\u001b[1;32m      1\u001b[0m a \u001b[38;5;241m=\u001b[39m (\u001b[38;5;241m1\u001b[39m, \u001b[38;5;241m2\u001b[39m)\n\u001b[0;32m----> 2\u001b[0m \u001b[43ma\u001b[49m\u001b[38;5;241;43m.\u001b[39;49m\u001b[43mappend\u001b[49m(\u001b[38;5;241m3\u001b[39m)\n\u001b[1;32m      3\u001b[0m \u001b[38;5;28mprint\u001b[39m(a)\n",
            "\u001b[0;31mAttributeError\u001b[0m: 'tuple' object has no attribute 'append'"
          ],
          "output_type": "error"
        }
      ],
      "id": "f5a32233"
    },
    {
      "cell_type": "code",
      "source": "a = [1, 2]\na = [3, 4]\nprint(a)",
      "metadata": {
        "trusted": true
      },
      "execution_count": 116,
      "outputs": [
        {
          "name": "stdout",
          "text": "[3, 4]\n",
          "output_type": "stream"
        }
      ],
      "id": "1b626f89"
    },
    {
      "cell_type": "code",
      "source": "a = (1, 2)\na = (3, 4)\nprint(a)",
      "metadata": {
        "trusted": true
      },
      "execution_count": 117,
      "outputs": [
        {
          "name": "stdout",
          "text": "(3, 4)\n",
          "output_type": "stream"
        }
      ],
      "id": "0fa7c68a"
    },
    {
      "cell_type": "markdown",
      "source": "Строки сортируются в лексикографическом порядке:",
      "metadata": {},
      "id": "7f6bc90e"
    },
    {
      "cell_type": "code",
      "source": "a = [\"100\", \"11\", \"12\", \"120\", \"119\"]\nprint(sorted(a))",
      "metadata": {
        "trusted": true
      },
      "execution_count": 118,
      "outputs": [
        {
          "name": "stdout",
          "text": "['100', '11', '119', '12', '120']\n",
          "output_type": "stream"
        }
      ],
      "id": "7f7b871b"
    },
    {
      "cell_type": "code",
      "source": "a = [\"100\", \"11\", \"12\", \"120\", \"119\"]\nprint(sorted(a, key = lambda x: int(x)))",
      "metadata": {
        "trusted": true
      },
      "execution_count": 119,
      "outputs": [
        {
          "name": "stdout",
          "text": "['11', '12', '100', '119', '120']\n",
          "output_type": "stream"
        }
      ],
      "id": "7579dcda"
    },
    {
      "cell_type": "markdown",
      "source": "## Снова к файлам",
      "metadata": {},
      "id": "e58bbfcc"
    },
    {
      "cell_type": "markdown",
      "source": "**Пример:** дана таблица результатов олимпиады в формате \"Фамилия Имя Класс Балл\". Нужно скопировать ее в текстовый файл и считать в двумерный массив. Задача - определить фамилию и имя победителя олимпиады. Если их несколько, вывести первого в лексикографическом порядке.\n\nРешение: считаем данные в двумерный список. Отсортируем его по убыванию балла и по возрастанию ФИ.\n\nТаблица:\n\n    Иванов Сергей 9 90\n    Сергеев Петр 10 85\n    Петров Иван 11 90",
      "metadata": {},
      "id": "c4583973"
    },
    {
      "cell_type": "code",
      "source": "with open(\"input.txt\", \"r\", encoding=\"utf-8\") as f:\n    a = list(map(lambda x: x.rstrip().split(), f.readlines()))\n    print(a)",
      "metadata": {
        "trusted": true
      },
      "execution_count": 123,
      "outputs": [
        {
          "name": "stdout",
          "text": "[['Иванов', 'Сергей', '9', '90'], ['Сергеев', 'Петр', '10', '85'], ['Петров', 'Иван', '11', '90']]\n",
          "output_type": "stream"
        }
      ],
      "id": "1295ab84"
    },
    {
      "cell_type": "code",
      "source": "print(sorted(a, key = lambda x: (-int(x[3]), x[0], x[1])))",
      "metadata": {
        "trusted": true
      },
      "execution_count": 124,
      "outputs": [
        {
          "name": "stdout",
          "text": "[['Иванов', 'Сергей', '9', '90'], ['Петров', 'Иван', '11', '90'], ['Сергеев', 'Петр', '10', '85']]\n",
          "output_type": "stream"
        }
      ],
      "id": "e102afba"
    },
    {
      "cell_type": "code",
      "source": "print(\" \".join(sorted(a, key = lambda x: (-int(x[3]), x[0], x[1]))[0][:2]))",
      "metadata": {
        "trusted": true
      },
      "execution_count": 125,
      "outputs": [
        {
          "name": "stdout",
          "text": "Иванов Сергей\n",
          "output_type": "stream"
        }
      ],
      "id": "8c29b96e"
    },
    {
      "cell_type": "markdown",
      "source": "## Генераторы и отложенные вычисления",
      "metadata": {},
      "id": "c233c0df"
    },
    {
      "cell_type": "code",
      "source": "def foo(x):\n    print(f\"foo called for {x}\")\n    return x * 10\n\nfor x in map(foo, [1, 2, 3]):\n    print(x)",
      "metadata": {
        "trusted": true
      },
      "execution_count": 126,
      "outputs": [
        {
          "name": "stdout",
          "text": "foo called for 1\n10\nfoo called for 2\n20\nfoo called for 3\n30\n",
          "output_type": "stream"
        }
      ],
      "id": "d2c31a60"
    },
    {
      "cell_type": "code",
      "source": "def foo(x):\n    print(f\"foo called for {x}\")\n    return x * 10\n\ndef boo(x):\n    print(f\"foo called for {x}\")\n    return x + 1000\n\nA = [1, 2, 3]\nB = map(foo, A)\nC = map(boo, B)\nprint(\"Iterations start:\")\nfor x in C:\n    print(x)",
      "metadata": {
        "trusted": true
      },
      "execution_count": 127,
      "outputs": [
        {
          "name": "stdout",
          "text": "Iterations start:\nfoo called for 1\nfoo called for 10\n1010\nfoo called for 2\nfoo called for 20\n1020\nfoo called for 3\nfoo called for 30\n1030\n",
          "output_type": "stream"
        }
      ],
      "id": "471d3f6d"
    },
    {
      "cell_type": "markdown",
      "source": "## Итерируемые объекты",
      "metadata": {},
      "id": "b9b2c2a5"
    },
    {
      "cell_type": "markdown",
      "source": "Часто бывает удобно использовать *распаковку* переменных:",
      "metadata": {},
      "id": "28ad489b"
    },
    {
      "cell_type": "code",
      "source": "a, b = 1, 2\nprint(a)\nprint(b)",
      "metadata": {
        "trusted": true
      },
      "execution_count": 128,
      "outputs": [
        {
          "name": "stdout",
          "text": "1\n2\n",
          "output_type": "stream"
        }
      ],
      "id": "5dd09d97"
    },
    {
      "cell_type": "code",
      "source": "a, b, c = [1, 2, 3]\nprint(a)\nprint(b)\nprint(c)",
      "metadata": {
        "trusted": true
      },
      "execution_count": 129,
      "outputs": [
        {
          "name": "stdout",
          "text": "1\n2\n3\n",
          "output_type": "stream"
        }
      ],
      "id": "f6d9de19"
    },
    {
      "cell_type": "code",
      "source": "a, b, c = [1, 2, 3, 4, 5]",
      "metadata": {
        "trusted": true
      },
      "execution_count": 130,
      "outputs": [
        {
          "ename": "<class 'ValueError'>",
          "evalue": "too many values to unpack (expected 3)",
          "traceback": [
            "\u001b[0;31m---------------------------------------------------------------------------\u001b[0m",
            "\u001b[0;31mValueError\u001b[0m                                Traceback (most recent call last)",
            "Cell \u001b[0;32mIn [130], line 1\u001b[0m\n\u001b[0;32m----> 1\u001b[0m a, b, c \u001b[38;5;241m=\u001b[39m [\u001b[38;5;241m1\u001b[39m, \u001b[38;5;241m2\u001b[39m, \u001b[38;5;241m3\u001b[39m, \u001b[38;5;241m4\u001b[39m, \u001b[38;5;241m5\u001b[39m]\n",
            "\u001b[0;31mValueError\u001b[0m: too many values to unpack (expected 3)"
          ],
          "output_type": "error"
        }
      ],
      "id": "8a7bc4c0"
    },
    {
      "cell_type": "code",
      "source": "*a, b, c = [1, 2, 3, 4, 5]\nprint(a, b, c)",
      "metadata": {
        "trusted": true
      },
      "execution_count": 131,
      "outputs": [
        {
          "name": "stdout",
          "text": "[1, 2, 3] 4 5\n",
          "output_type": "stream"
        }
      ],
      "id": "824efb53"
    },
    {
      "cell_type": "code",
      "source": "a, *b, c = [1, 2, 3, 4, 5]\nprint(a, b, c)",
      "metadata": {
        "trusted": true
      },
      "execution_count": 132,
      "outputs": [
        {
          "name": "stdout",
          "text": "1 [2, 3, 4] 5\n",
          "output_type": "stream"
        }
      ],
      "id": "6bae667a"
    },
    {
      "cell_type": "code",
      "source": "a, b, *c = [1, 2, 3, 4, 5]\nprint(a, b, c)",
      "metadata": {
        "trusted": true
      },
      "execution_count": 133,
      "outputs": [
        {
          "name": "stdout",
          "text": "1 2 [3, 4, 5]\n",
          "output_type": "stream"
        }
      ],
      "id": "b59f365f"
    },
    {
      "cell_type": "code",
      "source": "for a, b, c in [(1, 2, 3), (4, 5, 6), (7, 8, 9)]:\n    print(a, b, c)",
      "metadata": {
        "trusted": true
      },
      "execution_count": 134,
      "outputs": [
        {
          "name": "stdout",
          "text": "1 2 3\n4 5 6\n7 8 9\n",
          "output_type": "stream"
        }
      ],
      "id": "207af4f8"
    },
    {
      "cell_type": "code",
      "source": "for a, *b in [(1, 2, 3, 4), (10, 20), (100, 200, 300)]:\n    print(a, b)",
      "metadata": {
        "trusted": true
      },
      "execution_count": 135,
      "outputs": [
        {
          "name": "stdout",
          "text": "1 [2, 3, 4]\n10 [20]\n100 [200, 300]\n",
          "output_type": "stream"
        }
      ],
      "id": "5f2be0ff"
    },
    {
      "cell_type": "code",
      "source": "a, (b, c) = [1, (2, 3)]\nprint(a, b, c)",
      "metadata": {
        "trusted": true
      },
      "execution_count": 136,
      "outputs": [
        {
          "name": "stdout",
          "text": "1 2 3\n",
          "output_type": "stream"
        }
      ],
      "id": "866f2440"
    },
    {
      "cell_type": "markdown",
      "source": "### enumerate, zip, for с распаковкой ",
      "metadata": {},
      "id": "765afc8a"
    },
    {
      "cell_type": "markdown",
      "source": "В цикле `for` также можно использовать распаковку:",
      "metadata": {},
      "id": "5fa29a5a"
    },
    {
      "cell_type": "code",
      "source": "a = [[1, 2], [3, 4], [5, 6]]\nfor x, y in a:\n    print(x, y, x + y)",
      "metadata": {
        "trusted": true
      },
      "execution_count": 137,
      "outputs": [
        {
          "name": "stdout",
          "text": "1 2 3\n3 4 7\n5 6 11\n",
          "output_type": "stream"
        }
      ],
      "id": "e3e3cb71"
    },
    {
      "cell_type": "markdown",
      "source": "Часто такая распаковка используется не сама по себе, а вместе с использованием удобных функций `zip` и `enumerate`, которые позволяют удобнее работать со списками:",
      "metadata": {},
      "id": "2bb6559b"
    },
    {
      "cell_type": "code",
      "source": "a = [[1, 2, 3], [4, 5, 6], [7, 8, 9], [0, 0, 0]]\nfor i, x in enumerate(a):\n    print(i, x, sum(x))",
      "metadata": {
        "trusted": true
      },
      "execution_count": 138,
      "outputs": [
        {
          "name": "stdout",
          "text": "0 [1, 2, 3] 6\n1 [4, 5, 6] 15\n2 [7, 8, 9] 24\n3 [0, 0, 0] 0\n",
          "output_type": "stream"
        }
      ],
      "id": "d35a510a"
    },
    {
      "cell_type": "code",
      "source": "with open(\"1.txt\", \"w\") as f:\n    f.writelines([word + \"\\n\" for word in [\"dog\", \"cat\", \"mouse\", \"duck\", \"goose\"]])\nfor line in open(\"1.txt\"):\n    print(line.strip())",
      "metadata": {
        "trusted": true
      },
      "execution_count": 139,
      "outputs": [
        {
          "name": "stdout",
          "text": "dog\ncat\nmouse\nduck\ngoose\n",
          "output_type": "stream"
        }
      ],
      "id": "70889557"
    },
    {
      "cell_type": "code",
      "source": "for i, x in enumerate(open(\"1.txt\")):\n    print(i, x.rstrip())",
      "metadata": {
        "scrolled": true,
        "trusted": true
      },
      "execution_count": 140,
      "outputs": [
        {
          "name": "stdout",
          "text": "0 dog\n1 cat\n2 mouse\n3 duck\n4 goose\n",
          "output_type": "stream"
        }
      ],
      "id": "a34d5858"
    },
    {
      "cell_type": "code",
      "source": "a = [\"ab\", \"cd\", \"ef\"]\nb = [1, 2, 3]\nprint(list(zip(a, b)))",
      "metadata": {
        "trusted": true
      },
      "execution_count": 141,
      "outputs": [
        {
          "name": "stdout",
          "text": "[('ab', 1), ('cd', 2), ('ef', 3)]\n",
          "output_type": "stream"
        }
      ],
      "id": "5f28d35c"
    },
    {
      "cell_type": "code",
      "source": "for a, b in zip(\"abcdeFG\", range(10)):\n    print(a, b)",
      "metadata": {
        "trusted": true
      },
      "execution_count": 145,
      "outputs": [
        {
          "name": "stdout",
          "text": "a 0\nb 1\nc 2\nd 3\ne 4\nF 5\nG 6\n",
          "output_type": "stream"
        }
      ],
      "id": "8f44fcfd"
    },
    {
      "cell_type": "code",
      "source": "for a, b in zip(\"abcde\", range(10)):\n    print(a, b)",
      "metadata": {
        "trusted": true
      },
      "execution_count": 146,
      "outputs": [
        {
          "name": "stdout",
          "text": "a 0\nb 1\nc 2\nd 3\ne 4\n",
          "output_type": "stream"
        }
      ],
      "id": "172870c2"
    },
    {
      "cell_type": "markdown",
      "source": "## itertools",
      "metadata": {},
      "id": "9b5d74fb"
    },
    {
      "cell_type": "markdown",
      "source": "Для более удобной работы с итерируемыми объектами мы можем использовать библиотеку `itertools`. Для этого нужно ее импортировать:",
      "metadata": {},
      "id": "f6fc0268"
    },
    {
      "cell_type": "code",
      "source": "import itertools as it\n",
      "metadata": {
        "trusted": true
      },
      "execution_count": 147,
      "outputs": [],
      "id": "40027db1"
    },
    {
      "cell_type": "code",
      "source": "for x, y, z in it.permutations(\"ABC\"):\n    print(x, y, z, sep='')",
      "metadata": {
        "trusted": true
      },
      "execution_count": 148,
      "outputs": [
        {
          "ename": "<class 'SyntaxError'>",
          "evalue": "invalid syntax (<ipython-input-152-495327401983>, line 2)",
          "traceback": [
            "\u001b[0;36m  Cell \u001b[0;32mIn [152], line 2\u001b[0;36m\u001b[0m\n\u001b[0;31m    print(x, y, z, sep\"\")\u001b[0m\n\u001b[0m                      ^\u001b[0m\n\u001b[0;31mSyntaxError\u001b[0m\u001b[0;31m:\u001b[0m invalid syntax\n"
          ],
          "output_type": "error"
        }
      ],
      "id": "a2e7b20a"
    },
    {
      "cell_type": "code",
      "source": "for x, y, z in it.permutations(\"ABCD\", 3):\n    print(x, y, z, sep='', end=' ')",
      "metadata": {
        "tags": [],
        "trusted": true
      },
      "execution_count": 155,
      "outputs": [
        {
          "name": "stdout",
          "text": "ABC ABD ACB ACD ADB ADC BAC BAD BCA BCD BDA BDC CAB CAD CBA CBD CDA CDB DAB DAC DBA DBC DCA DCB ",
          "output_type": "stream"
        }
      ],
      "id": "34109753"
    },
    {
      "cell_type": "markdown",
      "source": "**Упражнение:**\nВычислите с помощью `it.permutation` $C_{12}^{5}$\n",
      "metadata": {},
      "id": "860da4be"
    },
    {
      "cell_type": "code",
      "source": "counter=0\nfor x in it.permutations('AAAAAAAAAAAA',5):\n    counter+=1\nprint(counter//(5*4*3*2*1))\n    ",
      "metadata": {
        "trusted": true
      },
      "execution_count": 167,
      "outputs": [
        {
          "name": "stdout",
          "text": "792\n",
          "output_type": "stream"
        }
      ],
      "id": "b43dcc6b"
    },
    {
      "cell_type": "code",
      "source": "for x, y in it.combinations(\"ABCDE\", 2):\n    print(x, y, sep='', end=' ')",
      "metadata": {},
      "execution_count": null,
      "outputs": [],
      "id": "5b112ac3"
    },
    {
      "cell_type": "code",
      "source": "for x, y in it.combinations_with_replacement(\"ABCDE\", 2):\n    print(x, y, sep='', end=' ')",
      "metadata": {},
      "execution_count": null,
      "outputs": [],
      "id": "154afae1"
    },
    {
      "cell_type": "code",
      "source": "for a in it.chain(\"мама\", \"мыла\", \"раму\"):\n    print(a, end=' ')",
      "metadata": {},
      "execution_count": null,
      "outputs": [],
      "id": "9a7ad207"
    },
    {
      "cell_type": "code",
      "source": "for a in it.chain([5, 4, 3], [3, 4, 5], [[3, 4, 5]]):\n    print(a, end=' ')",
      "metadata": {},
      "execution_count": null,
      "outputs": [],
      "id": "72c4e409"
    },
    {
      "cell_type": "code",
      "source": "for n, s in it.product(\"wxyz\", \"ABC\"):\n    print(n, s)",
      "metadata": {},
      "execution_count": null,
      "outputs": [],
      "id": "950eed61"
    },
    {
      "cell_type": "markdown",
      "source": "**Упражнение:**\nВведите 2 списка (координаты вектора `a` и координаты вектора `b`) и найдите скалярное произведение этих векторов, используя `zip` или что-нибудь из `itertools`.",
      "metadata": {},
      "id": "6b925d3f"
    },
    {
      "cell_type": "code",
      "source": "",
      "metadata": {},
      "execution_count": null,
      "outputs": [],
      "id": "80086fe0"
    }
  ]
}