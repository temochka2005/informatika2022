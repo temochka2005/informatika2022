{
  "metadata": {
    "kernelspec": {
      "name": "python",
      "display_name": "Python (Pyodide)",
      "language": "python"
    },
    "language_info": {
      "codemirror_mode": {
        "name": "python",
        "version": 3
      },
      "file_extension": ".py",
      "mimetype": "text/x-python",
      "name": "python",
      "nbconvert_exporter": "python",
      "pygments_lexer": "ipython3",
      "version": "3.8"
    }
  },
  "nbformat_minor": 5,
  "nbformat": 4,
  "cells": [
    {
      "cell_type": "markdown",
      "source": "# Set.",
      "metadata": {},
      "id": "cc9180ab"
    },
    {
      "cell_type": "markdown",
      "source": "Множество `set` в Python имеет тот же смысл, что понятие множества в математике. `Множество` содержит неупорядоченный набор элементов. Множества поддерживают стандартные математические операции над ними: *объединение, пересечение, разность*. Возможно также добавление и удаление элементов, проверка их принадлежности множеству с помощью оператора `in`. При этом все элементы входят в `set` только один раз, добавление существующего элемента не изменяет множество. Элементами множества могут быть только `неизменяемые` типы, например, его элементами не могут быть списки.\n\n### Таблица по взаимодействию элемента и множества\nОперация  | Значение \n---|---\n`x in A`  | $x \\in A$, принадлежит ли элемент x множеству A \n`x not in A`  | $x \\notin A$ — то же, что `not (x in A)`\n`A.add(x)`  | добавить элемент x в множество A \n`A.discard(x)`  | удалить элемент x из множества A \n`A.remove(x)`  | удалить элемент x из множества A \n`A.pop()`  | удаляет из множества один случайный элемент и возвращает его ",
      "metadata": {},
      "id": "2905a413"
    },
    {
      "cell_type": "code",
      "source": "a = {1, 2, 3}\na.add(4)\nprint(a)",
      "metadata": {
        "trusted": true
      },
      "execution_count": 1,
      "outputs": [
        {
          "name": "stdout",
          "text": "{1, 2, 3, 4}\n",
          "output_type": "stream"
        }
      ],
      "id": "b764f6e7"
    },
    {
      "cell_type": "code",
      "source": "a.add(1)\nprint(a)",
      "metadata": {
        "trusted": true
      },
      "execution_count": 2,
      "outputs": [
        {
          "name": "stdout",
          "text": "{1, 2, 3, 4}\n",
          "output_type": "stream"
        }
      ],
      "id": "10b6998a"
    },
    {
      "cell_type": "code",
      "source": "print(0 in a, 1 in a)",
      "metadata": {
        "trusted": true
      },
      "execution_count": 3,
      "outputs": [
        {
          "name": "stdout",
          "text": "False True\n",
          "output_type": "stream"
        }
      ],
      "id": "8feef037"
    },
    {
      "cell_type": "markdown",
      "source": "Для удаления элементов из множества можно использовать `discard` и `remove`, их поведение различается тогда, когда удаляемый элемент отсутствует в множестве: `discard` не делает ничего, а метод `remove` генерирует исключение `KeyError`, которое вы увидите в одной из ячеек ниже.",
      "metadata": {},
      "id": "96713d33"
    },
    {
      "cell_type": "code",
      "source": "a.remove(1)\nprint(a)",
      "metadata": {
        "trusted": true
      },
      "execution_count": 4,
      "outputs": [
        {
          "name": "stdout",
          "text": "{2, 3, 4}\n",
          "output_type": "stream"
        }
      ],
      "id": "a59d5948"
    },
    {
      "cell_type": "code",
      "source": "a.remove(0)\nprint(a)",
      "metadata": {
        "trusted": true
      },
      "execution_count": 5,
      "outputs": [
        {
          "ename": "<class 'KeyError'>",
          "evalue": "0",
          "traceback": [
            "\u001b[0;31m---------------------------------------------------------------------------\u001b[0m",
            "\u001b[0;31mKeyError\u001b[0m                                  Traceback (most recent call last)",
            "Cell \u001b[0;32mIn [5], line 1\u001b[0m\n\u001b[0;32m----> 1\u001b[0m \u001b[43ma\u001b[49m\u001b[38;5;241;43m.\u001b[39;49m\u001b[43mremove\u001b[49m\u001b[43m(\u001b[49m\u001b[38;5;241;43m0\u001b[39;49m\u001b[43m)\u001b[49m\n\u001b[1;32m      2\u001b[0m \u001b[38;5;28mprint\u001b[39m(a)\n",
            "\u001b[0;31mKeyError\u001b[0m: 0"
          ],
          "output_type": "error"
        }
      ],
      "id": "b33b0ea5"
    },
    {
      "cell_type": "code",
      "source": "print(a)",
      "metadata": {
        "trusted": true
      },
      "execution_count": 6,
      "outputs": [
        {
          "name": "stdout",
          "text": "{2, 3, 4}\n",
          "output_type": "stream"
        }
      ],
      "id": "c1a18deb"
    },
    {
      "cell_type": "code",
      "source": "a.discard(2)\nprint(a)",
      "metadata": {
        "trusted": true
      },
      "execution_count": 7,
      "outputs": [
        {
          "name": "stdout",
          "text": "{3, 4}\n",
          "output_type": "stream"
        }
      ],
      "id": "bae1b5de"
    },
    {
      "cell_type": "code",
      "source": "a.discard(0)\nprint(a)",
      "metadata": {
        "trusted": true
      },
      "execution_count": 8,
      "outputs": [
        {
          "name": "stdout",
          "text": "{3, 4}\n",
          "output_type": "stream"
        }
      ],
      "id": "27de8b15"
    },
    {
      "cell_type": "markdown",
      "source": "Для создания пустого множества или для получения множества из *итерируемого* объекта можно использовать конструктор множеств `set`:",
      "metadata": {},
      "id": "5f4bca28"
    },
    {
      "cell_type": "code",
      "source": "a = set()\nprint(a)\na.add(1)\nprint(a)",
      "metadata": {
        "trusted": true
      },
      "execution_count": 9,
      "outputs": [
        {
          "name": "stdout",
          "text": "set()\n{1}\n",
          "output_type": "stream"
        }
      ],
      "id": "68ccf6f0"
    },
    {
      "cell_type": "markdown",
      "source": "Конструкция ниже не работает, потому что фигурные скобки используются для создания пустых словарей `dict`, о которых будет сказано ниже.",
      "metadata": {},
      "id": "01353f80"
    },
    {
      "cell_type": "code",
      "source": "a = {}\nprint(a)\na.add(1)\nprint(a)",
      "metadata": {
        "trusted": true
      },
      "execution_count": 10,
      "outputs": [
        {
          "name": "stdout",
          "text": "{}\n",
          "output_type": "stream"
        },
        {
          "ename": "<class 'AttributeError'>",
          "evalue": "'dict' object has no attribute 'add'",
          "traceback": [
            "\u001b[0;31m---------------------------------------------------------------------------\u001b[0m",
            "\u001b[0;31mAttributeError\u001b[0m                            Traceback (most recent call last)",
            "Cell \u001b[0;32mIn [10], line 3\u001b[0m\n\u001b[1;32m      1\u001b[0m a \u001b[38;5;241m=\u001b[39m {}\n\u001b[1;32m      2\u001b[0m \u001b[38;5;28mprint\u001b[39m(a)\n\u001b[0;32m----> 3\u001b[0m \u001b[43ma\u001b[49m\u001b[38;5;241;43m.\u001b[39;49m\u001b[43madd\u001b[49m(\u001b[38;5;241m1\u001b[39m)\n\u001b[1;32m      4\u001b[0m \u001b[38;5;28mprint\u001b[39m(a)\n",
            "\u001b[0;31mAttributeError\u001b[0m: 'dict' object has no attribute 'add'"
          ],
          "output_type": "error"
        }
      ],
      "id": "73ca6b59"
    },
    {
      "cell_type": "code",
      "source": "a = [1, 2, 3, 4]\nprint(set(a))",
      "metadata": {
        "trusted": true
      },
      "execution_count": 11,
      "outputs": [
        {
          "name": "stdout",
          "text": "{1, 2, 3, 4}\n",
          "output_type": "stream"
        }
      ],
      "id": "a2c72d10"
    },
    {
      "cell_type": "code",
      "source": "a = [1, 2, 3, 4, 1]\nprint(set(a))",
      "metadata": {
        "trusted": true
      },
      "execution_count": 12,
      "outputs": [
        {
          "name": "stdout",
          "text": "{1, 2, 3, 4}\n",
          "output_type": "stream"
        }
      ],
      "id": "6aec8e48"
    },
    {
      "cell_type": "code",
      "source": "a = \"abcd\"\nprint(set(a))",
      "metadata": {
        "trusted": true
      },
      "execution_count": 13,
      "outputs": [
        {
          "name": "stdout",
          "text": "{'d', 'b', 'c', 'a'}\n",
          "output_type": "stream"
        }
      ],
      "id": "5f28094e"
    },
    {
      "cell_type": "code",
      "source": "a = \"abcda\"\nprint(set(a))",
      "metadata": {
        "trusted": true
      },
      "execution_count": 14,
      "outputs": [
        {
          "name": "stdout",
          "text": "{'d', 'b', 'c', 'a'}\n",
          "output_type": "stream"
        }
      ],
      "id": "1f6a55db"
    },
    {
      "cell_type": "markdown",
      "source": "Операции над множествами можно записывать как коротко символами, так и названиями соответствующих функций:",
      "metadata": {},
      "id": "b22ea5f0"
    },
    {
      "cell_type": "code",
      "source": "a = {1, 2, 3, 4}\nb = {3, 4, 5, 6}\nprint(a.union(b))\nprint(a | b)",
      "metadata": {
        "trusted": true
      },
      "execution_count": 15,
      "outputs": [
        {
          "name": "stdout",
          "text": "{1, 2, 3, 4, 5, 6}\n{1, 2, 3, 4, 5, 6}\n",
          "output_type": "stream"
        }
      ],
      "id": "09c3ec60"
    },
    {
      "cell_type": "code",
      "source": "a = {1, 2, 3, 4}\nb = {3, 4, 5, 6}\nprint(a.intersection(b))\nprint(a & b)",
      "metadata": {
        "trusted": true
      },
      "execution_count": 16,
      "outputs": [
        {
          "name": "stdout",
          "text": "{3, 4}\n{3, 4}\n",
          "output_type": "stream"
        }
      ],
      "id": "6f286d8d"
    },
    {
      "cell_type": "code",
      "source": "a = {1, 2, 3, 4}\nb = {3, 4, 5, 6}\nprint(a.difference(b))\nprint(a - b)",
      "metadata": {
        "trusted": true
      },
      "execution_count": 17,
      "outputs": [
        {
          "name": "stdout",
          "text": "{1, 2}\n{1, 2}\n",
          "output_type": "stream"
        }
      ],
      "id": "14b1a2b6"
    },
    {
      "cell_type": "markdown",
      "source": "Симметрическая разность двух множеств - множество, состоящее из элементов, входящих в одно и только одно из данных множеств:",
      "metadata": {},
      "id": "99ecf48b"
    },
    {
      "cell_type": "code",
      "source": "a = {1, 2, 3, 4}\nb = {3, 4, 5, 6}\nprint(a.symmetric_difference(b))\nprint(a ^ b)",
      "metadata": {
        "trusted": true
      },
      "execution_count": 18,
      "outputs": [
        {
          "name": "stdout",
          "text": "{1, 2, 5, 6}\n{1, 2, 5, 6}\n",
          "output_type": "stream"
        }
      ],
      "id": "f58dd2af"
    },
    {
      "cell_type": "code",
      "source": "a = {1, 2, 3, 4}\nb = {3, 4, 5, 6}\nprint(a <= b)\nprint(a.issubset(b))\n\nc = {3, 4}\nd = {3, 4, 5, 6}\nprint(c <= d)\nprint(c.issubset(d))",
      "metadata": {
        "trusted": true
      },
      "execution_count": 19,
      "outputs": [
        {
          "name": "stdout",
          "text": "False\nFalse\nTrue\nTrue\n",
          "output_type": "stream"
        }
      ],
      "id": "2fd6de37"
    },
    {
      "cell_type": "code",
      "source": "a = {3, 4, 5, 6}\nb = {3, 4, 5, 6}\nprint(a <= b)\nprint(a < b)",
      "metadata": {
        "trusted": true
      },
      "execution_count": 20,
      "outputs": [
        {
          "name": "stdout",
          "text": "True\nFalse\n",
          "output_type": "stream"
        }
      ],
      "id": "794fe0bb"
    },
    {
      "cell_type": "markdown",
      "source": "Существуют также операции наподобие `+=`, `-=`, `*=`, `/=`, `//=`:",
      "metadata": {},
      "id": "e978e84a"
    },
    {
      "cell_type": "code",
      "source": "a = {1, 2, 3, 4}\nb = {3, 4, 5, 6}\na &= b\nprint(a)",
      "metadata": {
        "trusted": true
      },
      "execution_count": 21,
      "outputs": [
        {
          "name": "stdout",
          "text": "{3, 4}\n",
          "output_type": "stream"
        }
      ],
      "id": "c3e59589"
    },
    {
      "cell_type": "code",
      "source": "a = {1, 2, 3, 4}\nb = {3, 4, 5, 6}\na.intersection_update(b)\nprint(a)",
      "metadata": {
        "trusted": true
      },
      "execution_count": 22,
      "outputs": [
        {
          "name": "stdout",
          "text": "{3, 4}\n",
          "output_type": "stream"
        }
      ],
      "id": "82ff0931"
    },
    {
      "cell_type": "code",
      "source": "a = {1, 2, 3, 4}\nb = {3, 4, 5, 6}\na |= b\nprint(a)",
      "metadata": {
        "trusted": true
      },
      "execution_count": 23,
      "outputs": [
        {
          "name": "stdout",
          "text": "{1, 2, 3, 4, 5, 6}\n",
          "output_type": "stream"
        }
      ],
      "id": "9e19f911"
    },
    {
      "cell_type": "code",
      "source": "a = {1, 2, 3, 4}\nb = {3, 4, 5, 6}\na.update(b)\nprint(a)",
      "metadata": {
        "trusted": true
      },
      "execution_count": 24,
      "outputs": [
        {
          "name": "stdout",
          "text": "{1, 2, 3, 4, 5, 6}\n",
          "output_type": "stream"
        }
      ],
      "id": "3e07d561"
    },
    {
      "cell_type": "code",
      "source": "a = {1, 2, 3, 4}\nb = {3, 4, 5, 6}\na -= b\nprint(a)",
      "metadata": {
        "trusted": true
      },
      "execution_count": 25,
      "outputs": [
        {
          "name": "stdout",
          "text": "{1, 2}\n",
          "output_type": "stream"
        }
      ],
      "id": "beabdba5"
    },
    {
      "cell_type": "code",
      "source": "a = {1, 2, 3, 4}\nb = {3, 4, 5, 6}\na.difference_update(b)\nprint(a)",
      "metadata": {
        "trusted": true
      },
      "execution_count": 26,
      "outputs": [
        {
          "name": "stdout",
          "text": "{1, 2}\n",
          "output_type": "stream"
        }
      ],
      "id": "0ccfb2a9"
    },
    {
      "cell_type": "markdown",
      "source": "### Сводная таблица операций с множествами:\nОперация  | Альтернатива | Значение \n---|---|---\n`A \\| B` | `A.union(B)`  | Возвращает множество, являющееся объединением множеств A и B. \n`A \\|= B` | `A.update(B)` | Записывает в A объединение множеств A и B. \n`A & B` | `A.intersection(B)`  | Возвращает множество, являющееся пересечением множеств A и B. \n`A &= B` | `A.intersection_update(B)`  | Записывает в A пересечение множеств A и B. \n`A - B` | `A.difference(B)`  | Возвращает разность множеств A и B (элементы, входящие в A, но не входящие в B). \n`A -= B` | `A.difference_update(B)`  | Записывает в A разность множеств A и B. \n`A ^ B` | `A.symmetric_difference(B)`  | Возвращает симметрическую разность множеств A и B (элементы, входящие в A или в B, но не в оба из них одновременно). \n`A ^= B` | `A.symmetric_difference_update(B)`  | Записывает в A симметрическую разность множеств A и B. \n`A <= B` | `A.issubset(B)`  | Возвращает True, если A является подмножеством B. \n`A >= B` | `A.issuperset(B)`  | Возвращает True, если B является подмножеством A. \n`A < B`  | | Эквивалентно A <= B and A != B \n`A > B`  | | Эквивалентно A >= B and A != B \n\n\n",
      "metadata": {},
      "id": "c6ac45f8"
    },
    {
      "cell_type": "markdown",
      "source": "**Упражнение 0**. Вывести на экран все элементы множества A, которых нет в множестве B. Дописать код ниже.",
      "metadata": {},
      "id": "203fa32c"
    },
    {
      "cell_type": "code",
      "source": "A = set('bqlpzlkwehrlulsdhfliuywemrlkjhsdlfjhlzxcovt')\nB = set('zmxcvnboaiyerjhbziuxdytvasenbriutsdvinjhgik')\nprint(A.difference(B))",
      "metadata": {
        "trusted": true
      },
      "execution_count": 27,
      "outputs": [
        {
          "name": "stdout",
          "text": "{'w', 'p', 'q', 'l', 'f'}\n",
          "output_type": "stream"
        }
      ],
      "id": "2f7da262"
    },
    {
      "cell_type": "markdown",
      "source": "**Упражнение 1.** Считать через `input` строку, состоящую из 3 слов и найти буквы, входящие в каждое из слов.",
      "metadata": {},
      "id": "3661d47e"
    },
    {
      "cell_type": "code",
      "source": "A=input().split()\nprint(set(A[0])&set(A[1])&set(A[2]))",
      "metadata": {
        "trusted": true
      },
      "execution_count": 28,
      "outputs": [
        {
          "ename": "<class 'AttributeError'>",
          "evalue": "'Future' object has no attribute 'split'",
          "traceback": [
            "\u001b[0;31m---------------------------------------------------------------------------\u001b[0m",
            "\u001b[0;31mAttributeError\u001b[0m                            Traceback (most recent call last)",
            "Cell \u001b[0;32mIn [28], line 1\u001b[0m\n\u001b[0;32m----> 1\u001b[0m A\u001b[38;5;241m=\u001b[39m\u001b[38;5;28;43minput\u001b[39;49m\u001b[43m(\u001b[49m\u001b[43m)\u001b[49m\u001b[38;5;241;43m.\u001b[39;49m\u001b[43msplit\u001b[49m()\n\u001b[1;32m      2\u001b[0m \u001b[38;5;28mprint\u001b[39m(\u001b[38;5;28mset\u001b[39m(A[\u001b[38;5;241m0\u001b[39m])\u001b[38;5;241m&\u001b[39m\u001b[38;5;28mset\u001b[39m(A[\u001b[38;5;241m1\u001b[39m])\u001b[38;5;241m&\u001b[39m\u001b[38;5;28mset\u001b[39m(A[\u001b[38;5;241m2\u001b[39m]))\n",
            "\u001b[0;31mAttributeError\u001b[0m: 'Future' object has no attribute 'split'"
          ],
          "output_type": "error"
        }
      ],
      "id": "d5aa2772"
    },
    {
      "cell_type": "markdown",
      "source": "**Упражнение 2.** Считать через `input` строку, состоящую из произвольного числа слов и найти буквы, входящие в каждое из слов.",
      "metadata": {},
      "id": "b18e5d22"
    },
    {
      "cell_type": "code",
      "source": "A=input().split()\nfor i in range(len(A)):\n    B=set(A[0])&set(A[i])\nprint(B)",
      "metadata": {},
      "execution_count": null,
      "outputs": [],
      "id": "157e055b"
    },
    {
      "cell_type": "markdown",
      "source": "**Упражнение 3\\*.** Считать через `input` несколько чисел через пробел и найти цифры, входящие в каждое из чисел. Использовать `while`.",
      "metadata": {},
      "id": "e3534537"
    },
    {
      "cell_type": "code",
      "source": "A=input().split()\ni=0\nwhile (i != len(A)):\n    B=set(A[0])&set(A[i])\n    i+=1\nprint(B)",
      "metadata": {},
      "execution_count": null,
      "outputs": [],
      "id": "8808e2e6"
    },
    {
      "cell_type": "markdown",
      "source": "# Dict.",
      "metadata": {},
      "id": "4c401aa6"
    },
    {
      "cell_type": "markdown",
      "source": "Кроме множеств также часто используются словари. Элемент словаря `dict` - это пара `ключ: значение`.\nКлючи позволяют обращаться к данным не по индексу, как это реализовано в списках, а по любому удобному значению.\n\n### Сводная таблица по операциям со словарями:\nОперация  | Значение \n---|---\n`value = A[key]` | Получение элемента по ключу. Если элемента с заданным ключом в словаре нет, то возникает исключение KeyError. \n`value = A.get(key)` | Получение элемента по ключу. Если элемента в словаре нет, то get возвращает None. \n`value = A.get(key, default_value)` | То же, но вместо None метод get возвращает default_value. \n`key in A` | Проверить принадлежность ключа словарю. \n`key not in A` | То же, что not key in A. \n`A[key] = value` | Добавление нового элемента в словарь. \n`del A[key]` | Удаление пары ключ-значение с ключом key. Возбуждает исключение KeyError, если такого ключа нет. \n`if key in A: del A[key]` | Удаление пары ключ-значение с предварительной проверкой наличия ключа. \n`value = A.pop(key)` | Удаление пары ключ-значение с ключом key и возврат значения удаляемого элемента.Если такого ключа нет, то возбуждается KeyError. \n`value = A.pop(key, default_value)` | То же, но вместо генерации исключения возвращается default_value. \n`A.pop(key, None)` | Это позволяет проще всего организовать безопасное удаление элемента из словаря. \n`len(A)` | Возвращает количество пар ключ-значение, хранящихся в словаре. \n",
      "metadata": {},
      "id": "b1a52ec5"
    },
    {
      "cell_type": "code",
      "source": "d = {\"Россия\": \"Москва\", \"Франция\": \"Париж\", \"Германия\": \"Берлин\"}\nprint(d[\"Германия\"])",
      "metadata": {
        "trusted": true
      },
      "execution_count": 29,
      "outputs": [
        {
          "name": "stdout",
          "text": "Берлин\n",
          "output_type": "stream"
        }
      ],
      "id": "b85122e9"
    },
    {
      "cell_type": "markdown",
      "source": "Такой способ хранения данных в данном случае является более естественным и удобным. Создание словаря и добавление элементов:",
      "metadata": {},
      "id": "eef7c663"
    },
    {
      "cell_type": "code",
      "source": "d = dict()\nd[\"Россия\"] = \"Москва\"\nprint(d)",
      "metadata": {
        "trusted": true
      },
      "execution_count": 30,
      "outputs": [
        {
          "name": "stdout",
          "text": "{'Россия': 'Москва'}\n",
          "output_type": "stream"
        }
      ],
      "id": "612972f3"
    },
    {
      "cell_type": "markdown",
      "source": "Можно обращаться к ключам словаря, к значениям словаря, итерировать по ключам и по парам ключ-значение.",
      "metadata": {},
      "id": "fb99a70b"
    },
    {
      "cell_type": "code",
      "source": "d = {\"Россия\": \"Москва\", \"Франция\": \"Париж\", \"Германия\": \"Берлин\"}\nprint(d.keys())\nprint(d.values())",
      "metadata": {
        "trusted": true
      },
      "execution_count": 31,
      "outputs": [
        {
          "name": "stdout",
          "text": "dict_keys(['Россия', 'Франция', 'Германия'])\ndict_values(['Москва', 'Париж', 'Берлин'])\n",
          "output_type": "stream"
        }
      ],
      "id": "0c99a37e"
    },
    {
      "cell_type": "code",
      "source": "for k in d.keys():\n    print(d[k])",
      "metadata": {
        "trusted": true
      },
      "execution_count": 32,
      "outputs": [
        {
          "name": "stdout",
          "text": "Москва\nПариж\nБерлин\n",
          "output_type": "stream"
        }
      ],
      "id": "c4c30767"
    },
    {
      "cell_type": "code",
      "source": "for k, v in d.items():\n    print(k, v)",
      "metadata": {
        "trusted": true
      },
      "execution_count": 33,
      "outputs": [
        {
          "name": "stdout",
          "text": "Россия Москва\nФранция Париж\nГермания Берлин\n",
          "output_type": "stream"
        }
      ],
      "id": "95a8fdf1"
    },
    {
      "cell_type": "code",
      "source": "print(d.items())",
      "metadata": {
        "trusted": true
      },
      "execution_count": 34,
      "outputs": [
        {
          "name": "stdout",
          "text": "dict_items([('Россия', 'Москва'), ('Франция', 'Париж'), ('Германия', 'Берлин')])\n",
          "output_type": "stream"
        }
      ],
      "id": "7304ca5e"
    },
    {
      "cell_type": "code",
      "source": "print(list(d.items()))",
      "metadata": {
        "trusted": true
      },
      "execution_count": 35,
      "outputs": [
        {
          "name": "stdout",
          "text": "[('Россия', 'Москва'), ('Франция', 'Париж'), ('Германия', 'Берлин')]\n",
          "output_type": "stream"
        }
      ],
      "id": "5c088447"
    },
    {
      "cell_type": "markdown",
      "source": "Можем сортировать такие объекты, например, по странам в лексикографическом порядке:",
      "metadata": {},
      "id": "f6560523"
    },
    {
      "cell_type": "code",
      "source": "d = list(d.items())\nd = sorted(d, key = lambda x: x[0])\nprint(d)",
      "metadata": {
        "trusted": true
      },
      "execution_count": 36,
      "outputs": [
        {
          "name": "stdout",
          "text": "[('Германия', 'Берлин'), ('Россия', 'Москва'), ('Франция', 'Париж')]\n",
          "output_type": "stream"
        }
      ],
      "id": "c84c8635"
    },
    {
      "cell_type": "markdown",
      "source": "# Set comprehensions. Dict comprehensions.",
      "metadata": {},
      "id": "59e0e44f"
    },
    {
      "cell_type": "markdown",
      "source": "Можно генерировать множества и словари по аналогии со списками:",
      "metadata": {},
      "id": "83b2e7ad"
    },
    {
      "cell_type": "code",
      "source": "a = [i for i in range(-5, 5)]\nprint(a)\na = {i for i in range(-5, 5)}\nprint(a)\na = [abs(i) for i in range(-5, 5)]\nprint(a)\na = {abs(i) for i in range(-5, 5)}\nprint(a)",
      "metadata": {
        "trusted": true
      },
      "execution_count": 37,
      "outputs": [
        {
          "name": "stdout",
          "text": "[-5, -4, -3, -2, -1, 0, 1, 2, 3, 4]\n{0, 1, 2, 3, 4, -2, -5, -4, -3, -1}\n[5, 4, 3, 2, 1, 0, 1, 2, 3, 4]\n{0, 1, 2, 3, 4, 5}\n",
          "output_type": "stream"
        }
      ],
      "id": "e19ab542"
    },
    {
      "cell_type": "markdown",
      "source": "Для определения порядкового номера символа в таблице символов ASCII используется функция `ord`:",
      "metadata": {},
      "id": "5e1eae9b"
    },
    {
      "cell_type": "code",
      "source": "s = \"a\"\nprint(ord(s))\nprint(ord('A'), ord('Z'), ord('a'), ord('z'))",
      "metadata": {
        "trusted": true
      },
      "execution_count": 38,
      "outputs": [
        {
          "name": "stdout",
          "text": "97\n65 90 97 122\n",
          "output_type": "stream"
        }
      ],
      "id": "0a141a96"
    },
    {
      "cell_type": "markdown",
      "source": "Обратная к ней функция, возвращающая символ по его порядковому номеру - `chr`:",
      "metadata": {},
      "id": "8ce05fc6"
    },
    {
      "cell_type": "code",
      "source": "print(chr(65), chr(90), chr(97), chr(122))",
      "metadata": {
        "trusted": true
      },
      "execution_count": 39,
      "outputs": [
        {
          "name": "stdout",
          "text": "A Z a z\n",
          "output_type": "stream"
        }
      ],
      "id": "0974a43c"
    },
    {
      "cell_type": "markdown",
      "source": "Создадим словарь, состоящий из пар элементов `номер буквы в таблице ASCII`: `буква`.",
      "metadata": {},
      "id": "cb0ffe6d"
    },
    {
      "cell_type": "code",
      "source": "d = {i: chr(i) for i in range(65, 91)}\nprint(d)\nprint(d[70])",
      "metadata": {
        "trusted": true
      },
      "execution_count": 40,
      "outputs": [
        {
          "name": "stdout",
          "text": "{65: 'A', 66: 'B', 67: 'C', 68: 'D', 69: 'E', 70: 'F', 71: 'G', 72: 'H', 73: 'I', 74: 'J', 75: 'K', 76: 'L', 77: 'M', 78: 'N', 79: 'O', 80: 'P', 81: 'Q', 82: 'R', 83: 'S', 84: 'T', 85: 'U', 86: 'V', 87: 'W', 88: 'X', 89: 'Y', 90: 'Z'}\nF\n",
          "output_type": "stream"
        }
      ],
      "id": "4aed5b7e"
    },
    {
      "cell_type": "markdown",
      "source": "**Упражнение 4.** Создайте аналогичный словарь для маленьких букв, выведите его, затем добавьте в него большие буквы и выведите итоговый словарь.",
      "metadata": {},
      "id": "c1e21462"
    },
    {
      "cell_type": "code",
      "source": "d = {i: chr(i) for i in range(97,123)}\nprint(d)\nfor k in range(65,91):\n    d[k]=chr(k)\nprint(d)",
      "metadata": {
        "trusted": true
      },
      "execution_count": 42,
      "outputs": [
        {
          "name": "stdout",
          "text": "{97: 'a', 98: 'b', 99: 'c', 100: 'd', 101: 'e', 102: 'f', 103: 'g', 104: 'h', 105: 'i', 106: 'j', 107: 'k', 108: 'l', 109: 'm', 110: 'n', 111: 'o', 112: 'p', 113: 'q', 114: 'r', 115: 's', 116: 't', 117: 'u', 118: 'v', 119: 'w', 120: 'x', 121: 'y', 122: 'z'}\n{97: 'a', 98: 'b', 99: 'c', 100: 'd', 101: 'e', 102: 'f', 103: 'g', 104: 'h', 105: 'i', 106: 'j', 107: 'k', 108: 'l', 109: 'm', 110: 'n', 111: 'o', 112: 'p', 113: 'q', 114: 'r', 115: 's', 116: 't', 117: 'u', 118: 'v', 119: 'w', 120: 'x', 121: 'y', 122: 'z', 65: 'A', 66: 'B', 67: 'C', 68: 'D', 69: 'E', 70: 'F', 71: 'G', 72: 'H', 73: 'I', 74: 'J', 75: 'K', 76: 'L', 77: 'M', 78: 'N', 79: 'O', 80: 'P', 81: 'Q', 82: 'R', 83: 'S', 84: 'T', 85: 'U', 86: 'V', 87: 'W', 88: 'X', 89: 'Y', 90: 'Z'}\n",
          "output_type": "stream"
        }
      ],
      "id": "bdc88da2"
    },
    {
      "cell_type": "markdown",
      "source": "**Упражнение 5.** Создайте словарь, в котором каждой букве (как ключу) будет соответствовать ее порядковый номер в алфавите (значение). Рекомендация: использовать функции `keys`, `values` или `items` для словаря из предыдущего упражнения, чтобы создать новый.",
      "metadata": {},
      "id": "a7c957f4"
    },
    {
      "cell_type": "code",
      "source": "d = {i: chr(i) for i in range(97,123)}\ni=1\nfor k in range(97,123):\n    del d[k]\n    d[i]=chr(k)\n    i+=1\nprint(d)  ",
      "metadata": {
        "trusted": true
      },
      "execution_count": 48,
      "outputs": [
        {
          "name": "stdout",
          "text": "{1: 'a', 2: 'b', 3: 'c', 4: 'd', 5: 'e', 6: 'f', 7: 'g', 8: 'h', 9: 'i', 10: 'j', 11: 'k', 12: 'l', 13: 'm', 14: 'n', 15: 'o', 16: 'p', 17: 'q', 18: 'r', 19: 's', 20: 't', 21: 'u', 22: 'v', 23: 'w', 24: 'x', 25: 'y', 26: 'z'}\n",
          "output_type": "stream"
        }
      ],
      "id": "70071da3"
    },
    {
      "cell_type": "markdown",
      "source": "**Упражнение 6.** Считайте слово с клавиатуры и найдите для него сумму номеров букв. Если некоторые буквы в слове повторяются (используйте такое слово), нужно считать только по уникальным буквам. Например, для строк 'abc' и 'abcbc' сумма будет 1+2+3=6, для xyz или zyxyz 24+25+26=75",
      "metadata": {},
      "id": "d4d2ca80"
    },
    {
      "cell_type": "code",
      "source": "A=list(set(list(input().lower())))\nsumma=0\nd = {i: chr(i) for i in range(97,123)}\ni=1\nfor k in range(97,123):\n    del d[k]\n    d[i]=chr(k)\n    i+=1\nfor l in range(len(A)):\n    for r in range(1,27):\n        if A[l] == d[r]:\n            summa+=r\nprint(summa)",
      "metadata": {},
      "execution_count": null,
      "outputs": [],
      "id": "ab97878c"
    },
    {
      "cell_type": "markdown",
      "source": "**Упражнение 7.** Считайте с клавиатуры количество пар синонимов, затем сами пары синонимов, затем одно из слов среди этих пар. Выведите его синоним. Допишите код, заменив все TODO. Пример ввода:\n\n    3\n    Hello Hi\n    Bye Goodbye\n    List Array\n    Goodbye",
      "metadata": {},
      "id": "8cb4046e"
    },
    {
      "cell_type": "code",
      "source": "n = int(input())\nd = dict()\nfor i in range(n):\n    s = input().split()\n    d[i]=s[0]\n    d[-i]=s[1]\nword = input()\nfor k in range(-len(d),len(d)+1):\n    if word==d[k]: print(d[-k])\n# TODO search for the desired synonym",
      "metadata": {},
      "execution_count": null,
      "outputs": [],
      "id": "7aea4c21"
    },
    {
      "cell_type": "markdown",
      "source": "# Частотный анализ.",
      "metadata": {},
      "id": "d4f833ac"
    },
    {
      "cell_type": "markdown",
      "source": "Вместо использования метода `count` для подсчета числа вхождений символа в большой текст лучше использовать `dict`. Для многократного поиска это будет работать быстрее, так как мы заполним словарь за один проход по данному тексту.",
      "metadata": {},
      "id": "20546c74"
    },
    {
      "cell_type": "code",
      "source": "s = \"abracadabra\"\nd = dict()\nfor i in s:\n    if i in d:\n        d[i] += 1\n    else:\n        d[i] = 1\nprint(d)",
      "metadata": {},
      "execution_count": null,
      "outputs": [],
      "id": "97cbd7e4"
    },
    {
      "cell_type": "code",
      "source": "print(s.count('a'))\nprint(d['a'])",
      "metadata": {},
      "execution_count": null,
      "outputs": [],
      "id": "1e25a4b0"
    },
    {
      "cell_type": "code",
      "source": "s = \"abracadabra\" * 1000000\nprint(s[:100])",
      "metadata": {},
      "execution_count": null,
      "outputs": [],
      "id": "794b68f1"
    },
    {
      "cell_type": "code",
      "source": "import time\nd = dict()\nfor i in s:\n    if i in d:\n        d[i] += 1\n    else:\n        d[i] = 1\nt1 = time.time()\nprint(d['a'])\nt2 = time.time()\nprint(t2 - t1)",
      "metadata": {},
      "execution_count": null,
      "outputs": [],
      "id": "aaa4527a"
    },
    {
      "cell_type": "code",
      "source": "t3 = time.time()\nprint(s.count('a'))\nt4 = time.time()\nprint(t4 - t3)",
      "metadata": {},
      "execution_count": null,
      "outputs": [],
      "id": "0225f5e3"
    },
    {
      "cell_type": "markdown",
      "source": "**Упражнение 8**. Считайте с клавиатуры строку, удалите из нее все цифры и пробелы. Создайте словарь, в котором ключами будут уникальные символы, а значениями их частота вхождения. Частотой вхождения называется отношение числа вхождений данного символа в исходную строку к числу символов в исходной строке.",
      "metadata": {},
      "id": "fb903399"
    },
    {
      "cell_type": "code",
      "source": "",
      "metadata": {},
      "execution_count": null,
      "outputs": [],
      "id": "a82c1e51"
    },
    {
      "cell_type": "markdown",
      "source": "# Collections.",
      "metadata": {},
      "id": "b082dac3"
    },
    {
      "cell_type": "markdown",
      "source": "Существуют также другие стандартные коллекции, которые позволяют решать некоторые задачи еще проще.",
      "metadata": {},
      "id": "ce4947f8"
    },
    {
      "cell_type": "code",
      "source": "import collections\ncnt = collections.Counter()\nfor word in ['red', 'blue', 'red', 'green', 'blue', 'blue']:\n    cnt[word] += 1\ncnt",
      "metadata": {},
      "execution_count": null,
      "outputs": [],
      "id": "57a20035"
    },
    {
      "cell_type": "code",
      "source": "cnt['red']",
      "metadata": {},
      "execution_count": null,
      "outputs": [],
      "id": "81553050"
    },
    {
      "cell_type": "markdown",
      "source": "Можно сократить запись, переимпортировав из библиотеки конкретный модуль:",
      "metadata": {},
      "id": "0834fd23"
    },
    {
      "cell_type": "code",
      "source": "from collections import Counter\nc = Counter(a=4, b=2, c=0, d=-2)\nprint(sorted(c.elements()))",
      "metadata": {},
      "execution_count": null,
      "outputs": [],
      "id": "4dd6f478"
    },
    {
      "cell_type": "code",
      "source": "print(collections.Counter('abracadabra').most_common(3))",
      "metadata": {},
      "execution_count": null,
      "outputs": [],
      "id": "d4c0fb62"
    },
    {
      "cell_type": "code",
      "source": "c = Counter(a=4, b=2, c=0, d=-2)\nd = Counter(a=1, b=2, c=3, d=4)\nc.subtract(d)\nprint(c)",
      "metadata": {},
      "execution_count": null,
      "outputs": [],
      "id": "77eec292"
    },
    {
      "cell_type": "code",
      "source": "c = Counter(a=10, b=5, c=0)\nc.total() # new for Python 3.10+",
      "metadata": {},
      "execution_count": null,
      "outputs": [],
      "id": "cb239bab"
    },
    {
      "cell_type": "markdown",
      "source": "С другими коллекциями вы можете познакомиться самостоятельно, их использование выходит за рамки упражнений и контеста.",
      "metadata": {},
      "id": "bfddca35"
    },
    {
      "cell_type": "code",
      "source": "",
      "metadata": {},
      "execution_count": null,
      "outputs": [],
      "id": "38c7c7d0"
    }
  ]
}